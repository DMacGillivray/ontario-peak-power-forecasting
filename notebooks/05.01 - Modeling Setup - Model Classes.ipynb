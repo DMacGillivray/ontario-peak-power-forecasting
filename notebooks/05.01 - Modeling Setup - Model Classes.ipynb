{
 "cells": [
  {
   "cell_type": "markdown",
   "metadata": {},
   "source": [
    "# 05.01 - Modeling Setup - Custom Model Classes"
   ]
  },
  {
   "cell_type": "markdown",
   "metadata": {},
   "source": [
    "## Imports & setup"
   ]
  },
  {
   "cell_type": "code",
   "execution_count": 1,
   "metadata": {
    "collapsed": false
   },
   "outputs": [],
   "source": [
    "import pathlib\n",
    "import warnings\n",
    "from datetime import datetime\n",
    "import math\n",
    "import sys\n",
    "\n",
    "import pandas as pd\n",
    "import numpy as np\n",
    "\n",
    "import matplotlib as mpl\n",
    "import matplotlib.pyplot as plt\n",
    "from pandas.plotting import register_matplotlib_converters\n",
    "register_matplotlib_converters()\n",
    "from matplotlib.dates import DateFormatter\n",
    "import matplotlib.dates as mdates\n",
    "\n",
    "sys.path.append(\"..\")\n",
    "\n",
    "from sklearn.metrics import mean_absolute_error\n",
    "\n",
    "from sklearn.preprocessing import MinMaxScaler\n",
    "from sklearn.base import BaseEstimator, RegressorMixin\n",
    "from statsmodels.tsa.statespace.sarimax import SARIMAX\n",
    "from fbprophet import Prophet\n",
    "\n",
    "%matplotlib inline\n",
    "\n",
    "PROJECT_DIR = pathlib.Path.cwd().parent.resolve()\n",
    "CLEAN_DATA_DIR = PROJECT_DIR / 'data' / '05-clean'\n",
    "\n",
    "pd.set_option('display.max_columns', 500)\n",
    "pd.set_option('display.width', 1000)"
   ]
  },
  {
   "cell_type": "markdown",
   "metadata": {},
   "source": [
    "## Load Some Data for Testing"
   ]
  },
  {
   "cell_type": "code",
   "execution_count": 2,
   "metadata": {
    "collapsed": false
   },
   "outputs": [
    {
     "data": {
      "text/html": [
       "<div>\n",
       "<style scoped>\n",
       "    .dataframe tbody tr th:only-of-type {\n",
       "        vertical-align: middle;\n",
       "    }\n",
       "\n",
       "    .dataframe tbody tr th {\n",
       "        vertical-align: top;\n",
       "    }\n",
       "\n",
       "    .dataframe thead th {\n",
       "        text-align: right;\n",
       "    }\n",
       "</style>\n",
       "<table border=\"1\" class=\"dataframe\">\n",
       "  <thead>\n",
       "    <tr style=\"text-align: right;\">\n",
       "      <th></th>\n",
       "      <th>temp_max</th>\n",
       "      <th>dew_point_temp</th>\n",
       "      <th>week_of_year</th>\n",
       "    </tr>\n",
       "  </thead>\n",
       "  <tbody>\n",
       "    <tr>\n",
       "      <td>1994-01-01</td>\n",
       "      <td>2.8</td>\n",
       "      <td>1.1</td>\n",
       "      <td>52.0</td>\n",
       "    </tr>\n",
       "    <tr>\n",
       "      <td>1994-01-02</td>\n",
       "      <td>1.7</td>\n",
       "      <td>0.5</td>\n",
       "      <td>52.0</td>\n",
       "    </tr>\n",
       "    <tr>\n",
       "      <td>1994-01-03</td>\n",
       "      <td>-10.3</td>\n",
       "      <td>-12.6</td>\n",
       "      <td>1.0</td>\n",
       "    </tr>\n",
       "    <tr>\n",
       "      <td>1994-01-04</td>\n",
       "      <td>-7.4</td>\n",
       "      <td>-11.5</td>\n",
       "      <td>1.0</td>\n",
       "    </tr>\n",
       "    <tr>\n",
       "      <td>1994-01-05</td>\n",
       "      <td>-7.2</td>\n",
       "      <td>-10.7</td>\n",
       "      <td>1.0</td>\n",
       "    </tr>\n",
       "  </tbody>\n",
       "</table>\n",
       "</div>"
      ],
      "text/plain": [
       "            temp_max  dew_point_temp  week_of_year\n",
       "1994-01-01       2.8             1.1          52.0\n",
       "1994-01-02       1.7             0.5          52.0\n",
       "1994-01-03     -10.3           -12.6           1.0\n",
       "1994-01-04      -7.4           -11.5           1.0\n",
       "1994-01-05      -7.2           -10.7           1.0"
      ]
     },
     "execution_count": 2,
     "metadata": {},
     "output_type": "execute_result"
    }
   ],
   "source": [
    "df = pd.read_csv(CLEAN_DATA_DIR / 'clean-cut.csv', parse_dates=True, index_col=0)\n",
    "df = df.loc['1994': '1995']\n",
    "df = df.resample('D').max()\n",
    "# Just select a reasonable subset of data to test the model wrappers\n",
    "df = df[['temp', 'dew_point_temp', 'week_of_year', 'daily_peak']]\n",
    "df.rename(columns={'temp': 'temp_max'}, inplace=True)\n",
    "\n",
    "y = df.pop('daily_peak')\n",
    "X = df\n",
    "\n",
    "X.head()"
   ]
  },
  {
   "cell_type": "code",
   "execution_count": 3,
   "metadata": {
    "collapsed": false
   },
   "outputs": [
    {
     "data": {
      "text/plain": [
       "1994-01-01    16892.0\n",
       "1994-01-02    18947.0\n",
       "1994-01-03    21923.0\n",
       "1994-01-04    21457.0\n",
       "1994-01-05    22082.0\n",
       "Freq: D, Name: daily_peak, dtype: float64"
      ]
     },
     "execution_count": 3,
     "metadata": {},
     "output_type": "execute_result"
    }
   ],
   "source": [
    "y.head()"
   ]
  },
  {
   "cell_type": "markdown",
   "metadata": {},
   "source": [
    "## Baseline Model"
   ]
  },
  {
   "cell_type": "code",
   "execution_count": 4,
   "metadata": {
    "collapsed": true
   },
   "outputs": [],
   "source": [
    "class SetTempAsPower:\n",
    "    \"\"\"\n",
    "    Makes a forecast by scaling temperature by the training set power min and max\n",
    "    Returns the scaled temperature as a prediction\n",
    "    Additional method get_pred_values for residual diagnostic purposes\n",
    "    on last fitted and predicted model\n",
    "    \"\"\"\n",
    "\n",
    "    def __init__(self, col=\"temp_max\"):\n",
    "        self.col = col\n",
    "\n",
    "    def fit(self, X, y):\n",
    "        self.y_fit = y\n",
    "        self.X_fit = X\n",
    "        self.max_power = y.max()\n",
    "        self.min_power = y.min()\n",
    "        return self\n",
    "\n",
    "    def predict(self, X):\n",
    "        self.X_predict = X\n",
    "        minmaxscaler = MinMaxScaler(feature_range=(self.min_power, self.max_power))\n",
    "        minmaxscaler.fit(self.X_fit[[self.col]])\n",
    "        scaled = minmaxscaler.transform(self.X_predict[[self.col]])\n",
    "        self.predict_yhat = pd.Series(\n",
    "            data=scaled.reshape(1, -1)[0], index=self.X_predict.index\n",
    "        )\n",
    "        return self.predict_yhat\n",
    "\n",
    "    def get_pred_values(self):\n",
    "        # All Data is only available after fit and predict\n",
    "        # Build a return DataFrame that looks similar to the prophet output\n",
    "        # date index | y | yhat| yhat_lower | yhat_upper | is_forecast\n",
    "        X_fit = self.X_fit.copy()\n",
    "        X_predict = self.X_predict.copy()\n",
    "        y = self.y_fit\n",
    "        if self.X_fit.equals(self.X_predict):\n",
    "            yhat = self.predict_yhat.copy(deep=True)\n",
    "\n",
    "        else:\n",
    "            self.fit(X_fit, y)\n",
    "            y.name = \"y\"\n",
    "            fit_yhat = self.predict(X_fit)\n",
    "            pred_yhat = self.predict(X_predict)\n",
    "            y_pred = pd.Series(np.NaN, index=X_predict.index)\n",
    "            y = pd.concat([y, y_pred], axis=0)\n",
    "            yhat = pd.concat([fit_yhat, pred_yhat], axis=0)\n",
    "\n",
    "        yhat.name = \"yhat\"\n",
    "        y.name = \"y\"\n",
    "        y = self.y_fit.copy()\n",
    "        full_suite = pd.concat([yhat, y], axis=1)\n",
    "        full_suite[\"is_forecast\"] = 0\n",
    "        full_suite[\"is_forecast\"] = full_suite[\"y\"].isna().astype(int)\n",
    "        full_suite[\"yhat_upper\"] = np.NaN\n",
    "        full_suite[\"yhat_lower\"] = np.NaN\n",
    "\n",
    "        full_suite = full_suite[\n",
    "            [\"y\", \"yhat\", \"yhat_lower\", \"yhat_upper\", \"is_forecast\"]\n",
    "        ]\n",
    "\n",
    "        return full_suite"
   ]
  },
  {
   "cell_type": "code",
   "execution_count": 5,
   "metadata": {
    "collapsed": false
   },
   "outputs": [
    {
     "name": "stdout",
     "output_type": "stream",
     "text": [
      "1995-01-01    17382.451087\n",
      "1995-01-02    17019.626812\n",
      "1995-01-03    16446.746377\n",
      "1995-01-04    15511.041667\n",
      "1995-01-05    15740.193841\n",
      "                  ...     \n",
      "1995-12-27    16103.018116\n",
      "1995-12-28    16561.322464\n",
      "1995-12-29    16733.186594\n",
      "1995-12-30    16885.954710\n",
      "1995-12-31    17325.163043\n",
      "Freq: D, Length: 365, dtype: float64\n",
      "\n",
      "3465.6429720071465\n"
     ]
    }
   ],
   "source": [
    "X_m = X.copy(deep=True)\n",
    "y_m = y.copy(deep=True)\n",
    "X_train = X_m['1994'] ; y_train = y_m['1994']\n",
    "X_test = X_m['1995'] ; y_test = y_m['1995']\n",
    "\n",
    "set_temp_as_power = SetTempAsPower(col='temp_max')\n",
    "set_temp_as_power.fit(X_train, y_train)\n",
    "preds = set_temp_as_power.predict(X_test)\n",
    "print(preds)\n",
    "print()\n",
    "print(mean_absolute_error(y_test, preds))"
   ]
  },
  {
   "cell_type": "markdown",
   "metadata": {},
   "source": [
    "## SARIMAX Model"
   ]
  },
  {
   "cell_type": "code",
   "execution_count": 6,
   "metadata": {
    "collapsed": true
   },
   "outputs": [],
   "source": [
    "class SK_SARIMAX(BaseEstimator, RegressorMixin):\n",
    "    \"\"\"\n",
    "    Wrapper for StatsModels SARIMAX tp a Scikit Learn Style Regressor\n",
    "    Additional Method get_pred_values to compile a dataset for the last model run\n",
    "    and return it for diangnostics purposes\n",
    "    \"\"\"\n",
    "    \n",
    "    def __init__(self, order=(2,0,1), seasonal_order=(2,0,0,96), trend='c'):\n",
    "        self.order = order\n",
    "        self.seasonal_order=seasonal_order\n",
    "        self.trend=trend\n",
    "\n",
    "    def fit(self, X, y):\n",
    "        self.fit_X = X\n",
    "        self.fit_y = y\n",
    "        self.model = SARIMAX(self.fit_y,\n",
    "                            order=self.order,\n",
    "                            seasonal_order=self.seasonal_order,\n",
    "                            trend=self.trend,\n",
    "                            exog=self.fit_X)\n",
    "        self.results = self.model.fit(disp=False)\n",
    "        return self.model\n",
    "        \n",
    "    def predict(self, X, y=None):\n",
    "        self.predict_X = X\n",
    "        self.forecast_object = self.results.get_forecast(steps=len(X), exog=X)\n",
    "        self.conf_int = self.forecast_object.conf_int()\n",
    "        self.ser = pd.Series(data = self.forecast_object.predicted_mean.values, index = self.predict_X.index)\n",
    "        return self.ser\n",
    "    \n",
    "    def get_pred_values(self):\n",
    "        # All Data is only available after fit and predict\n",
    "        # Build a return DataFrame that looks similar to the prophet output\n",
    "        # date index y | yhat| yhat_lower | yhat_upper | is_forecast\n",
    "        fitted = self.fit_y.copy(deep=True)\n",
    "        fitted.name = 'y'\n",
    "        fitted = pd.DataFrame(fitted)\n",
    "        fitted['is_forecast'] = 0\n",
    "        fitted['yhat'] = self.results.predict()\n",
    "        \n",
    "        ser = self.ser.copy(deep=True)\n",
    "        predict_y = pd.DataFrame(self.ser, columns=['yhat'])\n",
    "        predict_y['is_forecast'] = 1\n",
    "\n",
    "        conf_ints = pd.DataFrame(self.forecast_object.conf_int().values,\n",
    "                                 index = predict_y.index, columns=['yhat_lower', 'yhat_upper'])\n",
    "        \n",
    "        unknown = pd.concat([predict_y, conf_ints], axis=1, sort=True)\n",
    "\n",
    "        full_suite = pd.concat([fitted, unknown], axis=0, sort=True)\n",
    "        full_suite = full_suite[['y', 'yhat', 'yhat_lower', 'yhat_upper', 'is_forecast']]\n",
    "\n",
    "        return full_suite"
   ]
  },
  {
   "cell_type": "code",
   "execution_count": 7,
   "metadata": {
    "collapsed": false
   },
   "outputs": [
    {
     "name": "stdout",
     "output_type": "stream",
     "text": [
      "1995-01-01    17740.355312\n",
      "1995-01-02    19384.757528\n",
      "1995-01-03    19409.174761\n",
      "1995-01-04    19599.444730\n",
      "1995-01-05    19526.055538\n",
      "                  ...     \n",
      "1995-12-27    16779.312783\n",
      "1995-12-28    16696.124261\n",
      "1995-12-29    16665.023338\n",
      "1995-12-30    16640.312896\n",
      "1995-12-31    16569.806737\n",
      "Freq: D, Length: 365, dtype: float64\n",
      "\n",
      "1663.7301177460001\n"
     ]
    }
   ],
   "source": [
    "X_m = X.copy(deep=True)\n",
    "y_m = y.copy(deep=True)\n",
    "X_train = X_m['1994'] ; y_train = y_m['1994']\n",
    "X_test = X_m['1995'] ; y_test = y_m['1995']\n",
    "\n",
    "sk_sarimax = SK_SARIMAX(order=(1,1,1), seasonal_order=(0,0,0,96), trend='c')\n",
    "sk_sarimax.fit(X_train, y_train)\n",
    "preds = sk_sarimax.predict(X_test)\n",
    "print(preds)\n",
    "print()\n",
    "print(mean_absolute_error(y_test, preds))"
   ]
  },
  {
   "cell_type": "markdown",
   "metadata": {},
   "source": [
    "## Prophet Model"
   ]
  },
  {
   "cell_type": "code",
   "execution_count": 8,
   "metadata": {
    "collapsed": true
   },
   "outputs": [],
   "source": [
    "from sklearn.base import BaseEstimator, RegressorMixin\n",
    "from fbprophet import Prophet\n",
    "\n",
    "class SK_Prophet(BaseEstimator, RegressorMixin):\n",
    "    \"\"\" A universal sklearn-style wrapper for statsmodels regressors \"\"\"\n",
    "    \n",
    "    def __init__(self, regressors={}, pred_periods=96):\n",
    "#         self.pred_periods=pred_periods\n",
    "        self.regressors=regressors\n",
    "       \n",
    "        \n",
    "    def prep_X(self, X):\n",
    "        # Prophet requires a DataFrame with a column of dates labeled 'ds'\n",
    "        if 'ds' not in X.columns:\n",
    "            X = X.assign(ds = X.index)\n",
    "            X.reset_index(drop=True, inplace=True)\n",
    "        return X\n",
    "    \n",
    "    def prep_y(self, y):\n",
    "        # prohet requires the target to be labeled as y\n",
    "        if y.name is not 'y':\n",
    "            y.name = 'y'\n",
    "        return y\n",
    "        \n",
    "    def fit(self, X, y):\n",
    "        self.X_fit = X.copy(deep=True)\n",
    "        self.y_fit = y.copy(deep=True)\n",
    "        \n",
    "        # Setup the model\n",
    "        self.model=Prophet(daily_seasonality=True)\n",
    "        self.model.add_seasonality(name='summer', period=96, fourier_order=5)\n",
    "        self.model.add_seasonality(name='workweek', period=5, fourier_order=5)\n",
    "        self.model.seasonality_mode= 'multiplicative'\n",
    "\n",
    "        # If regressors is not empty\n",
    "        if (self.regressors.keys()):\n",
    "            for regressor, params in self.regressors.items():\n",
    "                if params:\n",
    "                    self.model.add_regressor(regressor, prior_scale=params[0], mode=params[1])\n",
    "                else:\n",
    "                    self.model.add_regressor(regressor)\n",
    "        \n",
    "        # Setup the data\n",
    "        X = self.prep_X(X)\n",
    "        y = self.prep_y(y)       \n",
    "        df = X.merge(right=y, left_on='ds', right_on=y.index)\n",
    "        \n",
    "        self.model.fit(df)\n",
    "        return self.model\n",
    "        \n",
    "    def predict(self, X):\n",
    "        self.X_pred = X.copy(deep=True)\n",
    "        X_ = self.prep_X(self.X_pred)\n",
    "        forecast_object = self.model.predict(X_)\n",
    "        # When we return the prediction, we are looking to return a datetime indexed series\n",
    "        # Therefore, we need to reverse what was done in prep_X prior to returning\n",
    "        preds = forecast_object.copy()\n",
    "        preds.set_index('ds', drop=True, inplace=True)\n",
    "        preds = preds['yhat']\n",
    "        preds.index.names=['date']\n",
    "        return preds\n",
    "    \n",
    "    def get_pred_values(self):\n",
    "        # All Data is only available after fit and predict\n",
    "        # Build a return DataFrame that looks similar to the prophet output\n",
    "        # date index y | yhat| yhat_lower | yhat_upper | is_forecast\n",
    "        full_X = pd.concat([self.prep_X(self.X_fit),\n",
    "                            self.prep_X(self.X_pred)],\n",
    "                            axis=0).reset_index(drop=True)\n",
    "        forecast_obj = self.model.predict(full_X)\n",
    "        forecast_obj['is_forecast'] = 0\n",
    "        forecast_obj.set_index('ds',drop=True, inplace=True)\n",
    "        del forecast_obj.index.name\n",
    "        forecast_obj.loc[self.y_fit.index, 'y'] = self.y_fit.values\n",
    "        forecast_obj.loc[self.X_pred.index, 'is_forecast'] = 1\n",
    "        \n",
    "        return forecast_obj"
   ]
  },
  {
   "cell_type": "code",
   "execution_count": 9,
   "metadata": {
    "collapsed": false
   },
   "outputs": [
    {
     "name": "stderr",
     "output_type": "stream",
     "text": [
      "INFO:numexpr.utils:NumExpr defaulting to 4 threads.\n",
      "INFO:fbprophet:Disabling yearly seasonality. Run prophet with yearly_seasonality=True to override this.\n",
      "/home/david/anaconda3/envs/ana_py37tf/lib/python3.7/site-packages/pystan/misc.py:399: FutureWarning:\n",
      "\n",
      "Conversion of the second argument of issubdtype from `float` to `np.floating` is deprecated. In future, it will be treated as `np.float64 == np.dtype(float).type`.\n",
      "\n"
     ]
    },
    {
     "name": "stdout",
     "output_type": "stream",
     "text": [
      "date\n",
      "1995-01-01    17267.793802\n",
      "1995-01-02    19271.690028\n",
      "1995-01-03    19448.960799\n",
      "1995-01-04    19800.554209\n",
      "1995-01-05    19657.770584\n",
      "                  ...     \n",
      "1995-12-27    28575.271794\n",
      "1995-12-28    28415.174914\n",
      "1995-12-29    27781.930797\n",
      "1995-12-30    25872.928642\n",
      "1995-12-31    25286.884568\n",
      "Name: yhat, Length: 365, dtype: float64\n",
      "\n",
      "4754.444363021953\n"
     ]
    }
   ],
   "source": [
    "X_m = X.copy(deep=True)\n",
    "y_m = y.copy(deep=True)\n",
    "X_train = X_m['1994'] ; y_train = y_m['1994']\n",
    "X_test = X_m['1995'] ; y_test = y_m['1995']\n",
    "\n",
    "prophet_model = SK_Prophet(regressors={'temp_max':(1.0, 'additive')})\n",
    "prophet_model.fit(X_train, y_train)\n",
    "preds = prophet_model.predict(X_test)\n",
    "print(preds)\n",
    "print()\n",
    "print(mean_absolute_error(y_test, preds))"
   ]
  },
  {
   "cell_type": "markdown",
   "metadata": {},
   "source": [
    "## XGBoost Model\n",
    "\n",
    "$$residual\\;error = actual - predicted$$\n",
    "\n",
    "$$enhanced\\;prediction = predicted + predicted\\;residual\\;error$$  "
   ]
  },
  {
   "cell_type": "code",
   "execution_count": 10,
   "metadata": {
    "collapsed": false
   },
   "outputs": [
    {
     "name": "stdout",
     "output_type": "stream",
     "text": [
      "                  y          yhat  yhat_lower  yhat_upper  is_forecast\n",
      "1994-01-01  16892.0  17668.891304         NaN         NaN            0\n",
      "1994-01-02  18947.0  17458.835145         NaN         NaN            0\n",
      "1994-01-03  21923.0  15167.313406         NaN         NaN            0\n",
      "1994-01-04  21457.0  15721.097826         NaN         NaN            0\n",
      "1994-01-05  22082.0  15759.289855         NaN         NaN            0\n",
      "...             ...           ...         ...         ...          ...\n",
      "1995-12-27      NaN  16103.018116         NaN         NaN            1\n",
      "1995-12-28      NaN  16561.322464         NaN         NaN            1\n",
      "1995-12-29      NaN  16733.186594         NaN         NaN            1\n",
      "1995-12-30      NaN  16885.954710         NaN         NaN            1\n",
      "1995-12-31      NaN  17325.163043         NaN         NaN            1\n",
      "\n",
      "[730 rows x 5 columns]\n"
     ]
    }
   ],
   "source": [
    "X_m = X.copy(deep=True)\n",
    "y_m = y.copy(deep=True)\n",
    "X_train = X_m['1994'] ; y_train = y_m['1994']\n",
    "X_test = X_m['1995'] ; y_test = y_m['1995']\n",
    "\n",
    "set_temp_as_power = SetTempAsPower(col='temp_max')\n",
    "set_temp_as_power.fit(X_train, y_train)\n",
    "orig_preds = set_temp_as_power.predict(X_test)\n",
    "resid_data = set_temp_as_power.get_pred_values()\n",
    "print(resid_data)"
   ]
  },
  {
   "cell_type": "code",
   "execution_count": 11,
   "metadata": {
    "collapsed": false
   },
   "outputs": [
    {
     "name": "stdout",
     "output_type": "stream",
     "text": [
      "                  y          yhat  yhat_lower  yhat_upper  is_forecast\n",
      "1994-01-01  16892.0  17668.891304         NaN         NaN            0\n",
      "1994-01-02  18947.0  17458.835145         NaN         NaN            0\n",
      "1994-01-03  21923.0  15167.313406         NaN         NaN            0\n",
      "1994-01-04  21457.0  15721.097826         NaN         NaN            0\n",
      "1994-01-05  22082.0  15759.289855         NaN         NaN            0\n",
      "...             ...           ...         ...         ...          ...\n",
      "1995-12-27  19260.0  16103.018116         NaN         NaN            1\n",
      "1995-12-28  19014.0  16561.322464         NaN         NaN            1\n",
      "1995-12-29  18635.0  16733.186594         NaN         NaN            1\n",
      "1995-12-30  18132.0  16885.954710         NaN         NaN            1\n",
      "1995-12-31  17333.0  17325.163043         NaN         NaN            1\n",
      "\n",
      "[730 rows x 5 columns]\n"
     ]
    }
   ],
   "source": [
    "resid_data.loc['1995', 'y'] = y_test.values\n",
    "print(resid_data)"
   ]
  },
  {
   "cell_type": "code",
   "execution_count": 12,
   "metadata": {
    "collapsed": false
   },
   "outputs": [
    {
     "name": "stdout",
     "output_type": "stream",
     "text": [
      "1994-01-01    -776.891304\n",
      "1994-01-02    1488.164855\n",
      "1994-01-03    6755.686594\n",
      "1994-01-04    5735.902174\n",
      "1994-01-05    6322.710145\n",
      "                 ...     \n",
      "1995-12-27    3156.981884\n",
      "1995-12-28    2452.677536\n",
      "1995-12-29    1901.813406\n",
      "1995-12-30    1246.045290\n",
      "1995-12-31       7.836957\n",
      "Freq: D, Length: 730, dtype: float64\n"
     ]
    }
   ],
   "source": [
    "resids = resid_data['y'].subtract(resid_data['yhat'])\n",
    "print(resids)"
   ]
  },
  {
   "cell_type": "code",
   "execution_count": 13,
   "metadata": {
    "collapsed": false
   },
   "outputs": [
    {
     "name": "stderr",
     "output_type": "stream",
     "text": [
      "/home/david/anaconda3/envs/ana_py37tf/lib/python3.7/site-packages/xgboost/core.py:587: FutureWarning:\n",
      "\n",
      "Series.base is deprecated and will be removed in a future version\n",
      "\n",
      "/home/david/anaconda3/envs/ana_py37tf/lib/python3.7/site-packages/xgboost/core.py:588: FutureWarning:\n",
      "\n",
      "Series.base is deprecated and will be removed in a future version\n",
      "\n"
     ]
    },
    {
     "data": {
      "text/plain": [
       "1995-01-01    19123.227698\n",
       "1995-01-02    20930.004741\n",
       "1995-01-03    20035.595498\n",
       "1995-01-04    21380.522135\n",
       "1995-01-05    21856.418938\n",
       "                  ...     \n",
       "1995-12-27    21019.140675\n",
       "1995-12-28    19431.099075\n",
       "1995-12-29    19327.892649\n",
       "1995-12-30    19152.566527\n",
       "1995-12-31    19080.712116\n",
       "Freq: D, Length: 365, dtype: float64"
      ]
     },
     "execution_count": 13,
     "metadata": {},
     "output_type": "execute_result"
    }
   ],
   "source": [
    "resids_1994 = resids.loc['1994']\n",
    "resids_1995 = resids.loc['1995']\n",
    "\n",
    "\n",
    "from xgboost.sklearn import XGBRegressor\n",
    "\n",
    "xgboost = XGBRegressor(max_depth=5,objective='reg:squarederror', n_estimators=200, learning_rate=0.1,\n",
    "                      importance_type='gain')\n",
    "\n",
    "xgboost.fit(X_train, resids_1994)\n",
    "xg_preds = xgboost.predict(X_test)\n",
    "full_preds = orig_preds.add(xg_preds)\n",
    "full_preds"
   ]
  },
  {
   "cell_type": "code",
   "execution_count": 14,
   "metadata": {
    "collapsed": false
   },
   "outputs": [
    {
     "data": {
      "text/plain": [
       "1065.0773549563266"
      ]
     },
     "execution_count": 14,
     "metadata": {},
     "output_type": "execute_result"
    }
   ],
   "source": [
    "mean_absolute_error(y_test, full_preds)"
   ]
  },
  {
   "cell_type": "markdown",
   "metadata": {
    "collapsed": true
   },
   "source": [
    "Improved from 3465"
   ]
  },
  {
   "cell_type": "code",
   "execution_count": null,
   "metadata": {
    "collapsed": true
   },
   "outputs": [],
   "source": []
  },
  {
   "cell_type": "code",
   "execution_count": null,
   "metadata": {
    "collapsed": true
   },
   "outputs": [],
   "source": []
  },
  {
   "cell_type": "code",
   "execution_count": null,
   "metadata": {
    "collapsed": true
   },
   "outputs": [],
   "source": []
  },
  {
   "cell_type": "code",
   "execution_count": null,
   "metadata": {
    "collapsed": true
   },
   "outputs": [],
   "source": []
  }
 ],
 "metadata": {
  "anaconda-cloud": {},
  "kernelspec": {
   "display_name": "Python [conda env:ana_py37tf]",
   "language": "python",
   "name": "conda-env-ana_py37tf-py"
  },
  "language_info": {
   "codemirror_mode": {
    "name": "ipython",
    "version": 3
   },
   "file_extension": ".py",
   "mimetype": "text/x-python",
   "name": "python",
   "nbconvert_exporter": "python",
   "pygments_lexer": "ipython3",
   "version": "3.7.3"
  }
 },
 "nbformat": 4,
 "nbformat_minor": 2
}
