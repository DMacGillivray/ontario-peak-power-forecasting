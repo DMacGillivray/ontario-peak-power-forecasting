{
 "cells": [
  {
   "cell_type": "markdown",
   "metadata": {},
   "source": [
    "# 05.02 - Modeling Setup - Custom Scoring"
   ]
  },
  {
   "cell_type": "markdown",
   "metadata": {},
   "source": [
    " + Imports & Setup\n",
    " + Load Test Data\n",
    " + Custom Scoring Metric"
   ]
  },
  {
   "cell_type": "markdown",
   "metadata": {},
   "source": [
    "## Imports & setup"
   ]
  },
  {
   "cell_type": "code",
   "execution_count": 1,
   "metadata": {
    "collapsed": false
   },
   "outputs": [],
   "source": [
    "import pathlib\n",
    "from datetime import datetime\n",
    "import math\n",
    "import sys\n",
    "\n",
    "import pandas as pd\n",
    "import numpy as np\n",
    "\n",
    "import matplotlib as mpl\n",
    "import matplotlib.pyplot as plt\n",
    "plt.style.use('grayscale')\n",
    "from matplotlib.dates import DateFormatter\n",
    "import matplotlib.dates as mdates\n",
    "\n",
    "from sklearn.metrics import mean_absolute_error\n",
    "\n",
    "sys.path.append(\"..\")\n",
    "from src.models.models import SetTempAsPower, SK_Prophet\n",
    "\n",
    "%matplotlib inline\n",
    "\n",
    "PROJECT_DIR = pathlib.Path.cwd().parent.resolve()\n",
    "CLEAN_DATA_DIR = PROJECT_DIR / 'data' /'05-clean'\n",
    "\n",
    "pd.set_option('display.max_columns', 500)\n",
    "pd.set_option('display.width', 1000)"
   ]
  },
  {
   "cell_type": "markdown",
   "metadata": {},
   "source": [
    "## Load Test Data"
   ]
  },
  {
   "cell_type": "code",
   "execution_count": 2,
   "metadata": {
    "collapsed": false
   },
   "outputs": [
    {
     "data": {
      "text/html": [
       "<div>\n",
       "<style scoped>\n",
       "    .dataframe tbody tr th:only-of-type {\n",
       "        vertical-align: middle;\n",
       "    }\n",
       "\n",
       "    .dataframe tbody tr th {\n",
       "        vertical-align: top;\n",
       "    }\n",
       "\n",
       "    .dataframe thead th {\n",
       "        text-align: right;\n",
       "    }\n",
       "</style>\n",
       "<table border=\"1\" class=\"dataframe\">\n",
       "  <thead>\n",
       "    <tr style=\"text-align: right;\">\n",
       "      <th></th>\n",
       "      <th>temp_max</th>\n",
       "      <th>dew_point_temp</th>\n",
       "      <th>week_of_year</th>\n",
       "    </tr>\n",
       "  </thead>\n",
       "  <tbody>\n",
       "    <tr>\n",
       "      <td>1994-01-01</td>\n",
       "      <td>2.8</td>\n",
       "      <td>1.1</td>\n",
       "      <td>52.0</td>\n",
       "    </tr>\n",
       "    <tr>\n",
       "      <td>1994-01-02</td>\n",
       "      <td>1.7</td>\n",
       "      <td>0.5</td>\n",
       "      <td>52.0</td>\n",
       "    </tr>\n",
       "    <tr>\n",
       "      <td>1994-01-03</td>\n",
       "      <td>-10.3</td>\n",
       "      <td>-12.6</td>\n",
       "      <td>1.0</td>\n",
       "    </tr>\n",
       "    <tr>\n",
       "      <td>1994-01-04</td>\n",
       "      <td>-7.4</td>\n",
       "      <td>-11.5</td>\n",
       "      <td>1.0</td>\n",
       "    </tr>\n",
       "    <tr>\n",
       "      <td>1994-01-05</td>\n",
       "      <td>-7.2</td>\n",
       "      <td>-10.7</td>\n",
       "      <td>1.0</td>\n",
       "    </tr>\n",
       "  </tbody>\n",
       "</table>\n",
       "</div>"
      ],
      "text/plain": [
       "            temp_max  dew_point_temp  week_of_year\n",
       "1994-01-01       2.8             1.1          52.0\n",
       "1994-01-02       1.7             0.5          52.0\n",
       "1994-01-03     -10.3           -12.6           1.0\n",
       "1994-01-04      -7.4           -11.5           1.0\n",
       "1994-01-05      -7.2           -10.7           1.0"
      ]
     },
     "execution_count": 2,
     "metadata": {},
     "output_type": "execute_result"
    }
   ],
   "source": [
    "df = pd.read_csv(CLEAN_DATA_DIR / 'clean-cut.csv', parse_dates=True, index_col=0)\n",
    "df = df.loc['1994': '1995']\n",
    "df = df.resample('D').max()\n",
    "# Just select a reasonable subset of data to test the model wrappers\n",
    "df = df[['temp', 'dew_point_temp', 'week_of_year', 'daily_peak']]\n",
    "df.rename(columns={'temp': 'temp_max'}, inplace=True)\n",
    "\n",
    "y = df.pop('daily_peak')\n",
    "X = df\n",
    "\n",
    "X.head()"
   ]
  },
  {
   "cell_type": "code",
   "execution_count": 3,
   "metadata": {
    "collapsed": false
   },
   "outputs": [
    {
     "data": {
      "text/plain": [
       "1994-01-01    16892.0\n",
       "1994-01-02    18947.0\n",
       "1994-01-03    21923.0\n",
       "1994-01-04    21457.0\n",
       "1994-01-05    22082.0\n",
       "Freq: D, Name: daily_peak, dtype: float64"
      ]
     },
     "execution_count": 3,
     "metadata": {},
     "output_type": "execute_result"
    }
   ],
   "source": [
    "y.head()"
   ]
  },
  {
   "cell_type": "code",
   "execution_count": 4,
   "metadata": {
    "collapsed": false
   },
   "outputs": [
    {
     "data": {
      "text/plain": [
       "1995-12-27    19260.0\n",
       "1995-12-28    19014.0\n",
       "1995-12-29    18635.0\n",
       "1995-12-30    18132.0\n",
       "1995-12-31    17333.0\n",
       "Freq: D, Name: daily_peak, dtype: float64"
      ]
     },
     "execution_count": 4,
     "metadata": {},
     "output_type": "execute_result"
    }
   ],
   "source": [
    "y.tail()"
   ]
  },
  {
   "cell_type": "markdown",
   "metadata": {
    "collapsed": true
   },
   "source": [
    "##  Custom Scoring Metric"
   ]
  },
  {
   "cell_type": "code",
   "execution_count": 5,
   "metadata": {
    "collapsed": false
   },
   "outputs": [
    {
     "data": {
      "text/plain": [
       "0.6666666666666666"
      ]
     },
     "execution_count": 5,
     "metadata": {},
     "output_type": "execute_result"
    }
   ],
   "source": [
    "def bound_precision(y_actual: pd.Series, y_predicted: pd.Series, n_to_check=5):\n",
    "    \"\"\"\n",
    "    Accepts two pandas series, and an integer n_to_check\n",
    "    Series are:\n",
    "    + actual values\n",
    "    + predicted values\n",
    "    Sorts each series by value from high to low, and cuts off each series at n_to_check\n",
    "    Determines how many hits - ie how many of the indices in the actual series are in the predicted series indices\n",
    "    Returns number of hits divided by n_to_check    \n",
    "    \"\"\"\n",
    "    y_act = y_actual.copy(deep=True)\n",
    "    y_pred = y_predicted.copy(deep=True)\n",
    "    y_act.reset_index(drop=True, inplace=True)\n",
    "    y_pred.reset_index(drop=True, inplace=True)\n",
    "\n",
    "    act_dates =set( y_act.sort_values(ascending=False).head(n_to_check).index)\n",
    "    pred_dates = set(y_pred.sort_values(ascending=False).head(n_to_check).index)\n",
    "    bound_precision =  len(act_dates.intersection(pred_dates))/ n_to_check\n",
    "    return bound_precision\n",
    "\n",
    "y_act = pd.Series([ 11,12,13,14, 15,16,17, 11, 12], index = pd.date_range(start='2019-01-01', periods=9))\n",
    "y_pred = pd.Series([18,11,13,14, 16,15,15, 14, 11], index = pd.date_range(start='2019-03-20', periods=9))\n",
    "b_prec = bound_precision(y_act, y_pred, n_to_check=3)\n",
    "b_prec"
   ]
  },
  {
   "cell_type": "code",
   "execution_count": 6,
   "metadata": {
    "collapsed": false
   },
   "outputs": [
    {
     "name": "stdout",
     "output_type": "stream",
     "text": [
      "1995-01-01    17382.451087\n",
      "1995-01-02    17019.626812\n",
      "1995-01-03    16446.746377\n",
      "1995-01-04    15511.041667\n",
      "1995-01-05    15740.193841\n",
      "                  ...     \n",
      "1995-12-27    16103.018116\n",
      "1995-12-28    16561.322464\n",
      "1995-12-29    16733.186594\n",
      "1995-12-30    16885.954710\n",
      "1995-12-31    17325.163043\n",
      "Freq: D, Length: 365, dtype: float64\n",
      "\n",
      "3465.6429720071465\n",
      "\n",
      "0.0\n"
     ]
    }
   ],
   "source": [
    "X_m = X.copy(deep=True)\n",
    "y_m = y.copy(deep=True)\n",
    "X_train = X_m['1994'] ; y_train = y_m['1994']\n",
    "X_test = X_m['1995'] ; y_test = y_m['1995']\n",
    "\n",
    "set_temp_as_power = SetTempAsPower(col='temp_max')\n",
    "set_temp_as_power.fit(X_train, y_train)\n",
    "preds = set_temp_as_power.predict(X_test)\n",
    "print(preds)\n",
    "print()\n",
    "print(mean_absolute_error(y_test, preds))\n",
    "print()\n",
    "print(bound_precision(y_test, preds))"
   ]
  },
  {
   "cell_type": "code",
   "execution_count": 7,
   "metadata": {
    "collapsed": false
   },
   "outputs": [
    {
     "name": "stderr",
     "output_type": "stream",
     "text": [
      "INFO:numexpr.utils:NumExpr defaulting to 4 threads.\n",
      "INFO:fbprophet:Disabling yearly seasonality. Run prophet with yearly_seasonality=True to override this.\n",
      "/home/david/anaconda3/envs/ana_py37tf/lib/python3.7/site-packages/pystan/misc.py:399: FutureWarning:\n",
      "\n",
      "Conversion of the second argument of issubdtype from `float` to `np.floating` is deprecated. In future, it will be treated as `np.float64 == np.dtype(float).type`.\n",
      "\n"
     ]
    },
    {
     "name": "stdout",
     "output_type": "stream",
     "text": [
      "date\n",
      "1995-01-01    17080.619191\n",
      "1995-01-02    19061.688157\n",
      "1995-01-03    19220.941450\n",
      "1995-01-04    19549.236353\n",
      "1995-01-05    19388.603381\n",
      "                  ...     \n",
      "1995-12-27    28064.347694\n",
      "1995-12-28    27862.681812\n",
      "1995-12-29    27201.035735\n",
      "1995-12-30    25291.638565\n",
      "1995-12-31    24654.362881\n",
      "Name: yhat, Length: 365, dtype: float64\n",
      "\n",
      "4260.874951529598\n",
      "\n",
      "0.2\n"
     ]
    }
   ],
   "source": [
    "sk_prophet = SK_Prophet(regressors={'temp_max':()})\n",
    "sk_prophet.fit(X_train, y_train)\n",
    "preds = sk_prophet.predict(X_test)\n",
    "print(preds)\n",
    "print()\n",
    "print(mean_absolute_error(y_test, preds))\n",
    "print()\n",
    "print(bound_precision(y_test, preds))"
   ]
  },
  {
   "cell_type": "code",
   "execution_count": null,
   "metadata": {
    "collapsed": true
   },
   "outputs": [],
   "source": []
  },
  {
   "cell_type": "code",
   "execution_count": null,
   "metadata": {
    "collapsed": true
   },
   "outputs": [],
   "source": []
  }
 ],
 "metadata": {
  "anaconda-cloud": {},
  "kernelspec": {
   "display_name": "Python [conda env:ana_py37tf]",
   "language": "python",
   "name": "conda-env-ana_py37tf-py"
  },
  "language_info": {
   "codemirror_mode": {
    "name": "ipython",
    "version": 3
   },
   "file_extension": ".py",
   "mimetype": "text/x-python",
   "name": "python",
   "nbconvert_exporter": "python",
   "pygments_lexer": "ipython3",
   "version": "3.7.3"
  }
 },
 "nbformat": 4,
 "nbformat_minor": 2
}
