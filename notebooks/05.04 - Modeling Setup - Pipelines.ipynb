{
 "cells": [
  {
   "cell_type": "markdown",
   "metadata": {},
   "source": [
    "# 05.04 - Modeling Setup - Pipelines"
   ]
  },
  {
   "cell_type": "markdown",
   "metadata": {},
   "source": [
    "## Imports & setup"
   ]
  },
  {
   "cell_type": "code",
   "execution_count": 1,
   "metadata": {
    "collapsed": false
   },
   "outputs": [],
   "source": [
    "import pathlib\n",
    "from datetime import datetime\n",
    "import math\n",
    "import sys\n",
    "\n",
    "import pandas as pd\n",
    "import numpy as np\n",
    "\n",
    "import matplotlib as mpl\n",
    "import matplotlib.pyplot as plt\n",
    "plt.style.use('grayscale')\n",
    "from matplotlib.dates import DateFormatter\n",
    "import matplotlib.dates as mdates\n",
    "\n",
    "from sklearn.metrics import mean_absolute_error\n",
    "from sklearn.pipeline import Pipeline\n",
    "from skoot.feature_selection import FeatureFilter\n",
    "from skoot.preprocessing import SelectiveRobustScaler\n",
    "\n",
    "sys.path.append(\"..\")\n",
    "from src.models.models import SetTempAsPower, SK_Prophet\n",
    "from src.utils.utils import bound_precision, AnnualTimeSeriesSplit\n",
    "\n",
    "%matplotlib inline\n",
    "\n",
    "PROJECT_DIR = pathlib.Path.cwd().parent.resolve()\n",
    "CLEAN_DATA_DIR = PROJECT_DIR / 'data' / '05-clean'\n",
    "\n",
    "pd.set_option('display.max_columns', 500)\n",
    "pd.set_option('display.width', 1000)"
   ]
  },
  {
   "cell_type": "markdown",
   "metadata": {},
   "source": [
    "## Load Test Data"
   ]
  },
  {
   "cell_type": "code",
   "execution_count": 2,
   "metadata": {
    "collapsed": false
   },
   "outputs": [
    {
     "data": {
      "text/html": [
       "<div>\n",
       "<style scoped>\n",
       "    .dataframe tbody tr th:only-of-type {\n",
       "        vertical-align: middle;\n",
       "    }\n",
       "\n",
       "    .dataframe tbody tr th {\n",
       "        vertical-align: top;\n",
       "    }\n",
       "\n",
       "    .dataframe thead th {\n",
       "        text-align: right;\n",
       "    }\n",
       "</style>\n",
       "<table border=\"1\" class=\"dataframe\">\n",
       "  <thead>\n",
       "    <tr style=\"text-align: right;\">\n",
       "      <th></th>\n",
       "      <th>temp_max</th>\n",
       "      <th>dew_point_temp</th>\n",
       "      <th>week_of_year</th>\n",
       "    </tr>\n",
       "  </thead>\n",
       "  <tbody>\n",
       "    <tr>\n",
       "      <td>1994-01-01</td>\n",
       "      <td>2.8</td>\n",
       "      <td>1.1</td>\n",
       "      <td>52.0</td>\n",
       "    </tr>\n",
       "    <tr>\n",
       "      <td>1994-01-02</td>\n",
       "      <td>1.7</td>\n",
       "      <td>0.5</td>\n",
       "      <td>52.0</td>\n",
       "    </tr>\n",
       "    <tr>\n",
       "      <td>1994-01-03</td>\n",
       "      <td>-10.3</td>\n",
       "      <td>-12.6</td>\n",
       "      <td>1.0</td>\n",
       "    </tr>\n",
       "    <tr>\n",
       "      <td>1994-01-04</td>\n",
       "      <td>-7.4</td>\n",
       "      <td>-11.5</td>\n",
       "      <td>1.0</td>\n",
       "    </tr>\n",
       "    <tr>\n",
       "      <td>1994-01-05</td>\n",
       "      <td>-7.2</td>\n",
       "      <td>-10.7</td>\n",
       "      <td>1.0</td>\n",
       "    </tr>\n",
       "  </tbody>\n",
       "</table>\n",
       "</div>"
      ],
      "text/plain": [
       "            temp_max  dew_point_temp  week_of_year\n",
       "1994-01-01       2.8             1.1          52.0\n",
       "1994-01-02       1.7             0.5          52.0\n",
       "1994-01-03     -10.3           -12.6           1.0\n",
       "1994-01-04      -7.4           -11.5           1.0\n",
       "1994-01-05      -7.2           -10.7           1.0"
      ]
     },
     "execution_count": 2,
     "metadata": {},
     "output_type": "execute_result"
    }
   ],
   "source": [
    "df = pd.read_csv(CLEAN_DATA_DIR / 'clean-cut.csv', parse_dates=True, index_col=0)\n",
    "df = df.loc['1994': '1998']\n",
    "df = df.resample('D').max()\n",
    "# Just select a reasonable subset of data to test the model wrappers\n",
    "df = df[['temp', 'dew_point_temp', 'week_of_year', 'daily_peak']]\n",
    "df.rename(columns={'temp': 'temp_max'}, inplace=True)\n",
    "\n",
    "y = df.pop('daily_peak')\n",
    "X = df\n",
    "\n",
    "X.head()"
   ]
  },
  {
   "cell_type": "code",
   "execution_count": 3,
   "metadata": {
    "collapsed": false
   },
   "outputs": [
    {
     "data": {
      "text/plain": [
       "1994-01-01    16892.0\n",
       "1994-01-02    18947.0\n",
       "1994-01-03    21923.0\n",
       "1994-01-04    21457.0\n",
       "1994-01-05    22082.0\n",
       "Freq: D, Name: daily_peak, dtype: float64"
      ]
     },
     "execution_count": 3,
     "metadata": {},
     "output_type": "execute_result"
    }
   ],
   "source": [
    "y.head()"
   ]
  },
  {
   "cell_type": "code",
   "execution_count": 4,
   "metadata": {
    "collapsed": false
   },
   "outputs": [
    {
     "data": {
      "text/plain": [
       "1998-12-27    17984.0\n",
       "1998-12-28    18648.0\n",
       "1998-12-29    19467.0\n",
       "1998-12-30    20886.0\n",
       "1998-12-31    19709.0\n",
       "Freq: D, Name: daily_peak, dtype: float64"
      ]
     },
     "execution_count": 4,
     "metadata": {},
     "output_type": "execute_result"
    }
   ],
   "source": [
    "y.tail()"
   ]
  },
  {
   "cell_type": "markdown",
   "metadata": {},
   "source": [
    "### Pipeline"
   ]
  },
  {
   "cell_type": "code",
   "execution_count": 5,
   "metadata": {
    "collapsed": false
   },
   "outputs": [],
   "source": [
    "n_splits=3\n",
    "sk_prophet = SK_Prophet(regressors={'dew_point_temp':(), 'week_of_year': ()})\n",
    "\n",
    "tatscv = AnnualTimeSeriesSplit(n_splits=n_splits)\n",
    "steps = [('dropper', FeatureFilter(cols=['temp_max'])),\n",
    "        ('robust_scaler', SelectiveRobustScaler(cols=['dew_point_temp'], trans_col_name=['dew_point_temp'])),\n",
    "        ('sk_prophet', sk_prophet)]\n",
    "pipeline = Pipeline(steps)"
   ]
  },
  {
   "cell_type": "markdown",
   "metadata": {},
   "source": [
    "### Cross Validation & Scoring"
   ]
  },
  {
   "cell_type": "code",
   "execution_count": 6,
   "metadata": {
    "collapsed": false
   },
   "outputs": [
    {
     "name": "stderr",
     "output_type": "stream",
     "text": [
      "INFO:numexpr.utils:NumExpr defaulting to 4 threads.\n",
      "INFO:fbprophet:Disabling yearly seasonality. Run prophet with yearly_seasonality=True to override this.\n",
      "/home/david/anaconda3/envs/ana_py37tf/lib/python3.7/site-packages/pystan/misc.py:399: FutureWarning:\n",
      "\n",
      "Conversion of the second argument of issubdtype from `float` to `np.floating` is deprecated. In future, it will be treated as `np.float64 == np.dtype(float).type`.\n",
      "\n",
      "/home/david/anaconda3/envs/ana_py37tf/lib/python3.7/site-packages/pystan/misc.py:399: FutureWarning:\n",
      "\n",
      "Conversion of the second argument of issubdtype from `float` to `np.floating` is deprecated. In future, it will be treated as `np.float64 == np.dtype(float).type`.\n",
      "\n",
      "/home/david/anaconda3/envs/ana_py37tf/lib/python3.7/site-packages/pystan/misc.py:399: FutureWarning:\n",
      "\n",
      "Conversion of the second argument of issubdtype from `float` to `np.floating` is deprecated. In future, it will be treated as `np.float64 == np.dtype(float).type`.\n",
      "\n"
     ]
    },
    {
     "name": "stdout",
     "output_type": "stream",
     "text": [
      "[742.9669035078234, 675.6945217815219, 683.5281096770452]\n",
      "[0.4, 0.6, 0.6]\n",
      "\n",
      "[5353.916951308222, 875.9532672417328, 895.8241614289749]\n",
      "[0.0, 0.2, 0.0]\n"
     ]
    }
   ],
   "source": [
    "cv_mae_scores_train = []\n",
    "cv_bound_prec_scores_train = []\n",
    "\n",
    "cv_mae_scores = []\n",
    "cv_bound_prec_scores_test = []\n",
    "\n",
    "for train_indx, val_indx in tatscv.split(X):\n",
    "    X_train = X.iloc[train_indx] ; y_train = y.iloc[train_indx]\n",
    "    X_val = X.iloc[val_indx] ; y_val = y.iloc[val_indx]\n",
    "    \n",
    "    pipeline.fit(X_train, y_train)\n",
    "    y_pred = pipeline.predict(X_train)\n",
    "    cv_mae_scores_train.append(mean_absolute_error(y_train, y_pred))\n",
    "    cv_bound_prec_scores_train.append(bound_precision(y_train, y_pred))\n",
    "    \n",
    "    y_pred = pipeline.predict(X_val)\n",
    "\n",
    "    cv_mae_scores.append(mean_absolute_error(y_val, y_pred))\n",
    "    cv_bound_prec_scores_test.append(bound_precision(y_val, y_pred))\n",
    "\n",
    "print(cv_mae_scores_train)\n",
    "print(cv_bound_prec_scores_train) \n",
    "print()\n",
    "print(cv_mae_scores)\n",
    "print(cv_bound_prec_scores_test)  "
   ]
  },
  {
   "cell_type": "code",
   "execution_count": null,
   "metadata": {
    "collapsed": true
   },
   "outputs": [],
   "source": []
  },
  {
   "cell_type": "code",
   "execution_count": null,
   "metadata": {
    "collapsed": true
   },
   "outputs": [],
   "source": []
  }
 ],
 "metadata": {
  "anaconda-cloud": {},
  "kernelspec": {
   "display_name": "Python [conda env:ana_py37tf]",
   "language": "python",
   "name": "conda-env-ana_py37tf-py"
  },
  "language_info": {
   "codemirror_mode": {
    "name": "ipython",
    "version": 3
   },
   "file_extension": ".py",
   "mimetype": "text/x-python",
   "name": "python",
   "nbconvert_exporter": "python",
   "pygments_lexer": "ipython3",
   "version": "3.7.3"
  }
 },
 "nbformat": 4,
 "nbformat_minor": 2
}
