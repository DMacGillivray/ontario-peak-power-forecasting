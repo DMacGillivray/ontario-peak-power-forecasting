{
 "cells": [
  {
   "cell_type": "markdown",
   "metadata": {},
   "source": [
    "# 03.04 - Calendar Data"
   ]
  },
  {
   "cell_type": "markdown",
   "metadata": {},
   "source": [
    "## Imports & setup"
   ]
  },
  {
   "cell_type": "code",
   "execution_count": 1,
   "metadata": {
    "collapsed": true
   },
   "outputs": [],
   "source": [
    "import pathlib\n",
    "import datetime\n",
    "import dateutil\n",
    "from os import PathLike\n",
    "from typing import Union\n",
    "\n",
    "#import simplegeneric\n",
    "import pandas as pd\n",
    "import numpy as np\n",
    "from astral import Astral\n",
    "\n",
    "import matplotlib.pyplot as plt\n",
    "plt.style.use('grayscale')\n",
    "from matplotlib.dates import DateFormatter\n",
    "import matplotlib.dates as mdates\n",
    "import palettable\n",
    "%matplotlib inline\n",
    "\n",
    "\n",
    "PROJECT_DIR = pathlib.Path.cwd().parent.resolve()\n",
    "IMPUTED_DATA_DIR_DEMAND = PROJECT_DIR / 'data' / '03-imputed' / 'demand'\n",
    "CALCULATED_FEATURES_DATA_DIR = PROJECT_DIR / 'data' / '03-calculated-features' / 'calendar'"
   ]
  },
  {
   "cell_type": "markdown",
   "metadata": {},
   "source": [
    "## Load"
   ]
  },
  {
   "cell_type": "code",
   "execution_count": 2,
   "metadata": {
    "collapsed": false
   },
   "outputs": [
    {
     "name": "stdout",
     "output_type": "stream",
     "text": [
      "<class 'pandas.core.frame.DataFrame'>\n",
      "DatetimeIndex: 222840 entries, 1994-01-01 00:00:00 to 2019-06-03 23:00:00\n",
      "Data columns (total 1 columns):\n",
      "ont_demand    222840 non-null float64\n",
      "dtypes: float64(1)\n",
      "memory usage: 3.4 MB\n"
     ]
    }
   ],
   "source": [
    "demand_df = pd.read_csv(IMPUTED_DATA_DIR_DEMAND / 'demand.csv', index_col=0, parse_dates=True,\n",
    "                       date_parser=dateutil.parser.parse)\n",
    "#demand_df.index.tz_localize(None)\n",
    "demand_df.info()"
   ]
  },
  {
   "cell_type": "code",
   "execution_count": 3,
   "metadata": {
    "collapsed": false
   },
   "outputs": [
    {
     "data": {
      "text/html": [
       "<div>\n",
       "<style scoped>\n",
       "    .dataframe tbody tr th:only-of-type {\n",
       "        vertical-align: middle;\n",
       "    }\n",
       "\n",
       "    .dataframe tbody tr th {\n",
       "        vertical-align: top;\n",
       "    }\n",
       "\n",
       "    .dataframe thead th {\n",
       "        text-align: right;\n",
       "    }\n",
       "</style>\n",
       "<table border=\"1\" class=\"dataframe\">\n",
       "  <thead>\n",
       "    <tr style=\"text-align: right;\">\n",
       "      <th></th>\n",
       "      <th>hour_of_day</th>\n",
       "      <th>year</th>\n",
       "      <th>month</th>\n",
       "      <th>day_of_week</th>\n",
       "      <th>day_of_year</th>\n",
       "      <th>week_of_year</th>\n",
       "      <th>quarter</th>\n",
       "    </tr>\n",
       "  </thead>\n",
       "  <tbody>\n",
       "    <tr>\n",
       "      <td>1994-01-01 00:00:00</td>\n",
       "      <td>0</td>\n",
       "      <td>1994</td>\n",
       "      <td>1</td>\n",
       "      <td>5</td>\n",
       "      <td>1</td>\n",
       "      <td>52</td>\n",
       "      <td>1</td>\n",
       "    </tr>\n",
       "    <tr>\n",
       "      <td>1994-01-01 01:00:00</td>\n",
       "      <td>1</td>\n",
       "      <td>1994</td>\n",
       "      <td>1</td>\n",
       "      <td>5</td>\n",
       "      <td>1</td>\n",
       "      <td>52</td>\n",
       "      <td>1</td>\n",
       "    </tr>\n",
       "    <tr>\n",
       "      <td>1994-01-01 02:00:00</td>\n",
       "      <td>2</td>\n",
       "      <td>1994</td>\n",
       "      <td>1</td>\n",
       "      <td>5</td>\n",
       "      <td>1</td>\n",
       "      <td>52</td>\n",
       "      <td>1</td>\n",
       "    </tr>\n",
       "    <tr>\n",
       "      <td>1994-01-01 03:00:00</td>\n",
       "      <td>3</td>\n",
       "      <td>1994</td>\n",
       "      <td>1</td>\n",
       "      <td>5</td>\n",
       "      <td>1</td>\n",
       "      <td>52</td>\n",
       "      <td>1</td>\n",
       "    </tr>\n",
       "    <tr>\n",
       "      <td>1994-01-01 04:00:00</td>\n",
       "      <td>4</td>\n",
       "      <td>1994</td>\n",
       "      <td>1</td>\n",
       "      <td>5</td>\n",
       "      <td>1</td>\n",
       "      <td>52</td>\n",
       "      <td>1</td>\n",
       "    </tr>\n",
       "  </tbody>\n",
       "</table>\n",
       "</div>"
      ],
      "text/plain": [
       "                     hour_of_day  year  month  day_of_week  day_of_year  \\\n",
       "1994-01-01 00:00:00            0  1994      1            5            1   \n",
       "1994-01-01 01:00:00            1  1994      1            5            1   \n",
       "1994-01-01 02:00:00            2  1994      1            5            1   \n",
       "1994-01-01 03:00:00            3  1994      1            5            1   \n",
       "1994-01-01 04:00:00            4  1994      1            5            1   \n",
       "\n",
       "                     week_of_year  quarter  \n",
       "1994-01-01 00:00:00            52        1  \n",
       "1994-01-01 01:00:00            52        1  \n",
       "1994-01-01 02:00:00            52        1  \n",
       "1994-01-01 03:00:00            52        1  \n",
       "1994-01-01 04:00:00            52        1  "
      ]
     },
     "execution_count": 3,
     "metadata": {},
     "output_type": "execute_result"
    }
   ],
   "source": [
    "features_df = demand_df.copy(deep=True)\n",
    "features_df['hour_of_day'] = features_df.index.hour\n",
    "features_df['year'] = features_df.index.year\n",
    "features_df['month'] = features_df.index.month\n",
    "features_df['day_of_week'] = features_df.index.dayofweek\n",
    "features_df['day_of_year'] = features_df.index.dayofyear\n",
    "features_df['week_of_year'] = features_df.index.weekofyear\n",
    "features_df['quarter'] = features_df.index.quarter\n",
    "features_df.drop(columns=['ont_demand'], inplace=True)\n",
    "\n",
    "features_df.head()"
   ]
  },
  {
   "cell_type": "code",
   "execution_count": 4,
   "metadata": {
    "collapsed": true
   },
   "outputs": [],
   "source": [
    "import holidays\n"
   ]
  },
  {
   "cell_type": "code",
   "execution_count": 5,
   "metadata": {
    "collapsed": false
   },
   "outputs": [
    {
     "name": "stdout",
     "output_type": "stream",
     "text": [
      "True\n",
      "False\n"
     ]
    }
   ],
   "source": [
    "hols = holidays.Canada(state='ON') # default is ontario Holidays\n",
    "print(features_df.loc['2018-01-01'].index.date[0] in hols)\n",
    "print(features_df.loc['2018-12-27'].index.date[0] in hols)"
   ]
  },
  {
   "cell_type": "code",
   "execution_count": 6,
   "metadata": {
    "collapsed": false
   },
   "outputs": [
    {
     "data": {
      "text/html": [
       "<div>\n",
       "<style scoped>\n",
       "    .dataframe tbody tr th:only-of-type {\n",
       "        vertical-align: middle;\n",
       "    }\n",
       "\n",
       "    .dataframe tbody tr th {\n",
       "        vertical-align: top;\n",
       "    }\n",
       "\n",
       "    .dataframe thead th {\n",
       "        text-align: right;\n",
       "    }\n",
       "</style>\n",
       "<table border=\"1\" class=\"dataframe\">\n",
       "  <thead>\n",
       "    <tr style=\"text-align: right;\">\n",
       "      <th></th>\n",
       "      <th>hour_of_day</th>\n",
       "      <th>year</th>\n",
       "      <th>month</th>\n",
       "      <th>day_of_week</th>\n",
       "      <th>day_of_year</th>\n",
       "      <th>week_of_year</th>\n",
       "      <th>quarter</th>\n",
       "      <th>stat_hol</th>\n",
       "    </tr>\n",
       "  </thead>\n",
       "  <tbody>\n",
       "    <tr>\n",
       "      <td>1994-01-01 00:00:00</td>\n",
       "      <td>0</td>\n",
       "      <td>1994</td>\n",
       "      <td>1</td>\n",
       "      <td>5</td>\n",
       "      <td>1</td>\n",
       "      <td>52</td>\n",
       "      <td>1</td>\n",
       "      <td>True</td>\n",
       "    </tr>\n",
       "    <tr>\n",
       "      <td>1994-01-01 01:00:00</td>\n",
       "      <td>1</td>\n",
       "      <td>1994</td>\n",
       "      <td>1</td>\n",
       "      <td>5</td>\n",
       "      <td>1</td>\n",
       "      <td>52</td>\n",
       "      <td>1</td>\n",
       "      <td>True</td>\n",
       "    </tr>\n",
       "    <tr>\n",
       "      <td>1994-01-01 02:00:00</td>\n",
       "      <td>2</td>\n",
       "      <td>1994</td>\n",
       "      <td>1</td>\n",
       "      <td>5</td>\n",
       "      <td>1</td>\n",
       "      <td>52</td>\n",
       "      <td>1</td>\n",
       "      <td>True</td>\n",
       "    </tr>\n",
       "    <tr>\n",
       "      <td>1994-01-01 03:00:00</td>\n",
       "      <td>3</td>\n",
       "      <td>1994</td>\n",
       "      <td>1</td>\n",
       "      <td>5</td>\n",
       "      <td>1</td>\n",
       "      <td>52</td>\n",
       "      <td>1</td>\n",
       "      <td>True</td>\n",
       "    </tr>\n",
       "    <tr>\n",
       "      <td>1994-01-01 04:00:00</td>\n",
       "      <td>4</td>\n",
       "      <td>1994</td>\n",
       "      <td>1</td>\n",
       "      <td>5</td>\n",
       "      <td>1</td>\n",
       "      <td>52</td>\n",
       "      <td>1</td>\n",
       "      <td>True</td>\n",
       "    </tr>\n",
       "  </tbody>\n",
       "</table>\n",
       "</div>"
      ],
      "text/plain": [
       "                     hour_of_day  year  month  day_of_week  day_of_year  \\\n",
       "1994-01-01 00:00:00            0  1994      1            5            1   \n",
       "1994-01-01 01:00:00            1  1994      1            5            1   \n",
       "1994-01-01 02:00:00            2  1994      1            5            1   \n",
       "1994-01-01 03:00:00            3  1994      1            5            1   \n",
       "1994-01-01 04:00:00            4  1994      1            5            1   \n",
       "\n",
       "                     week_of_year  quarter  stat_hol  \n",
       "1994-01-01 00:00:00            52        1      True  \n",
       "1994-01-01 01:00:00            52        1      True  \n",
       "1994-01-01 02:00:00            52        1      True  \n",
       "1994-01-01 03:00:00            52        1      True  \n",
       "1994-01-01 04:00:00            52        1      True  "
      ]
     },
     "execution_count": 6,
     "metadata": {},
     "output_type": "execute_result"
    }
   ],
   "source": [
    "features_df['stat_hol'] = pd.Series(features_df.index.date).apply(lambda x: x in hols).values\n",
    "features_df.head()"
   ]
  },
  {
   "cell_type": "code",
   "execution_count": 7,
   "metadata": {
    "collapsed": false
   },
   "outputs": [
    {
     "data": {
      "text/html": [
       "<div>\n",
       "<style scoped>\n",
       "    .dataframe tbody tr th:only-of-type {\n",
       "        vertical-align: middle;\n",
       "    }\n",
       "\n",
       "    .dataframe tbody tr th {\n",
       "        vertical-align: top;\n",
       "    }\n",
       "\n",
       "    .dataframe thead th {\n",
       "        text-align: right;\n",
       "    }\n",
       "</style>\n",
       "<table border=\"1\" class=\"dataframe\">\n",
       "  <thead>\n",
       "    <tr style=\"text-align: right;\">\n",
       "      <th></th>\n",
       "      <th>hour_of_day</th>\n",
       "      <th>year</th>\n",
       "      <th>month</th>\n",
       "      <th>day_of_week</th>\n",
       "      <th>day_of_year</th>\n",
       "      <th>week_of_year</th>\n",
       "      <th>quarter</th>\n",
       "      <th>stat_hol</th>\n",
       "    </tr>\n",
       "  </thead>\n",
       "  <tbody>\n",
       "    <tr>\n",
       "      <td>2019-06-03 19:00:00</td>\n",
       "      <td>19</td>\n",
       "      <td>2019</td>\n",
       "      <td>6</td>\n",
       "      <td>0</td>\n",
       "      <td>154</td>\n",
       "      <td>23</td>\n",
       "      <td>2</td>\n",
       "      <td>False</td>\n",
       "    </tr>\n",
       "    <tr>\n",
       "      <td>2019-06-03 20:00:00</td>\n",
       "      <td>20</td>\n",
       "      <td>2019</td>\n",
       "      <td>6</td>\n",
       "      <td>0</td>\n",
       "      <td>154</td>\n",
       "      <td>23</td>\n",
       "      <td>2</td>\n",
       "      <td>False</td>\n",
       "    </tr>\n",
       "    <tr>\n",
       "      <td>2019-06-03 21:00:00</td>\n",
       "      <td>21</td>\n",
       "      <td>2019</td>\n",
       "      <td>6</td>\n",
       "      <td>0</td>\n",
       "      <td>154</td>\n",
       "      <td>23</td>\n",
       "      <td>2</td>\n",
       "      <td>False</td>\n",
       "    </tr>\n",
       "    <tr>\n",
       "      <td>2019-06-03 22:00:00</td>\n",
       "      <td>22</td>\n",
       "      <td>2019</td>\n",
       "      <td>6</td>\n",
       "      <td>0</td>\n",
       "      <td>154</td>\n",
       "      <td>23</td>\n",
       "      <td>2</td>\n",
       "      <td>False</td>\n",
       "    </tr>\n",
       "    <tr>\n",
       "      <td>2019-06-03 23:00:00</td>\n",
       "      <td>23</td>\n",
       "      <td>2019</td>\n",
       "      <td>6</td>\n",
       "      <td>0</td>\n",
       "      <td>154</td>\n",
       "      <td>23</td>\n",
       "      <td>2</td>\n",
       "      <td>False</td>\n",
       "    </tr>\n",
       "  </tbody>\n",
       "</table>\n",
       "</div>"
      ],
      "text/plain": [
       "                     hour_of_day  year  month  day_of_week  day_of_year  \\\n",
       "2019-06-03 19:00:00           19  2019      6            0          154   \n",
       "2019-06-03 20:00:00           20  2019      6            0          154   \n",
       "2019-06-03 21:00:00           21  2019      6            0          154   \n",
       "2019-06-03 22:00:00           22  2019      6            0          154   \n",
       "2019-06-03 23:00:00           23  2019      6            0          154   \n",
       "\n",
       "                     week_of_year  quarter  stat_hol  \n",
       "2019-06-03 19:00:00            23        2     False  \n",
       "2019-06-03 20:00:00            23        2     False  \n",
       "2019-06-03 21:00:00            23        2     False  \n",
       "2019-06-03 22:00:00            23        2     False  \n",
       "2019-06-03 23:00:00            23        2     False  "
      ]
     },
     "execution_count": 7,
     "metadata": {},
     "output_type": "execute_result"
    }
   ],
   "source": [
    "features_df.tail()"
   ]
  },
  {
   "cell_type": "code",
   "execution_count": 8,
   "metadata": {
    "collapsed": false
   },
   "outputs": [
    {
     "name": "stdout",
     "output_type": "stream",
     "text": [
      "2019-07-02 05:39:03-04:00\n",
      "2019-07-02 21:03:43-04:00\n",
      "<class 'datetime.datetime'>\n"
     ]
    }
   ],
   "source": [
    "from astral import Astral\n",
    "a = Astral()\n",
    "city_name='Toronto'\n",
    "city = a[city_name]\n",
    "#city.latitude\n",
    "sun = city.sun(date=datetime.date(2019, 7, 2), local=True)\n",
    "print(sun['sunrise'])\n",
    "print(sun['sunset'])\n",
    "print(type(sun['sunrise']))"
   ]
  },
  {
   "cell_type": "code",
   "execution_count": 9,
   "metadata": {
    "collapsed": false
   },
   "outputs": [
    {
     "name": "stdout",
     "output_type": "stream",
     "text": [
      "2018-01-01 00:00:00\n",
      "2018-12-27 00:00:00\n"
     ]
    }
   ],
   "source": [
    "print(features_df.loc['2018-01-01'].index[0])\n",
    "print(features_df.loc['2018-12-27'].index[0])"
   ]
  },
  {
   "cell_type": "code",
   "execution_count": 10,
   "metadata": {
    "collapsed": false
   },
   "outputs": [
    {
     "data": {
      "text/html": [
       "<div>\n",
       "<style scoped>\n",
       "    .dataframe tbody tr th:only-of-type {\n",
       "        vertical-align: middle;\n",
       "    }\n",
       "\n",
       "    .dataframe tbody tr th {\n",
       "        vertical-align: top;\n",
       "    }\n",
       "\n",
       "    .dataframe thead th {\n",
       "        text-align: right;\n",
       "    }\n",
       "</style>\n",
       "<table border=\"1\" class=\"dataframe\">\n",
       "  <thead>\n",
       "    <tr style=\"text-align: right;\">\n",
       "      <th></th>\n",
       "      <th>hour_of_day</th>\n",
       "      <th>year</th>\n",
       "      <th>month</th>\n",
       "      <th>day_of_week</th>\n",
       "      <th>day_of_year</th>\n",
       "      <th>week_of_year</th>\n",
       "      <th>quarter</th>\n",
       "      <th>stat_hol</th>\n",
       "    </tr>\n",
       "  </thead>\n",
       "  <tbody>\n",
       "    <tr>\n",
       "      <td>1994-01-01 00:00:00</td>\n",
       "      <td>0</td>\n",
       "      <td>1994</td>\n",
       "      <td>1</td>\n",
       "      <td>5</td>\n",
       "      <td>1</td>\n",
       "      <td>52</td>\n",
       "      <td>1</td>\n",
       "      <td>True</td>\n",
       "    </tr>\n",
       "    <tr>\n",
       "      <td>1994-01-01 01:00:00</td>\n",
       "      <td>1</td>\n",
       "      <td>1994</td>\n",
       "      <td>1</td>\n",
       "      <td>5</td>\n",
       "      <td>1</td>\n",
       "      <td>52</td>\n",
       "      <td>1</td>\n",
       "      <td>True</td>\n",
       "    </tr>\n",
       "    <tr>\n",
       "      <td>1994-01-01 02:00:00</td>\n",
       "      <td>2</td>\n",
       "      <td>1994</td>\n",
       "      <td>1</td>\n",
       "      <td>5</td>\n",
       "      <td>1</td>\n",
       "      <td>52</td>\n",
       "      <td>1</td>\n",
       "      <td>True</td>\n",
       "    </tr>\n",
       "    <tr>\n",
       "      <td>1994-01-01 03:00:00</td>\n",
       "      <td>3</td>\n",
       "      <td>1994</td>\n",
       "      <td>1</td>\n",
       "      <td>5</td>\n",
       "      <td>1</td>\n",
       "      <td>52</td>\n",
       "      <td>1</td>\n",
       "      <td>True</td>\n",
       "    </tr>\n",
       "    <tr>\n",
       "      <td>1994-01-01 04:00:00</td>\n",
       "      <td>4</td>\n",
       "      <td>1994</td>\n",
       "      <td>1</td>\n",
       "      <td>5</td>\n",
       "      <td>1</td>\n",
       "      <td>52</td>\n",
       "      <td>1</td>\n",
       "      <td>True</td>\n",
       "    </tr>\n",
       "  </tbody>\n",
       "</table>\n",
       "</div>"
      ],
      "text/plain": [
       "                     hour_of_day  year  month  day_of_week  day_of_year  \\\n",
       "1994-01-01 00:00:00            0  1994      1            5            1   \n",
       "1994-01-01 01:00:00            1  1994      1            5            1   \n",
       "1994-01-01 02:00:00            2  1994      1            5            1   \n",
       "1994-01-01 03:00:00            3  1994      1            5            1   \n",
       "1994-01-01 04:00:00            4  1994      1            5            1   \n",
       "\n",
       "                     week_of_year  quarter  stat_hol  \n",
       "1994-01-01 00:00:00            52        1      True  \n",
       "1994-01-01 01:00:00            52        1      True  \n",
       "1994-01-01 02:00:00            52        1      True  \n",
       "1994-01-01 03:00:00            52        1      True  \n",
       "1994-01-01 04:00:00            52        1      True  "
      ]
     },
     "execution_count": 10,
     "metadata": {},
     "output_type": "execute_result"
    }
   ],
   "source": [
    "features_df.head()"
   ]
  },
  {
   "cell_type": "code",
   "execution_count": 11,
   "metadata": {
    "collapsed": false,
    "scrolled": false
   },
   "outputs": [
    {
     "data": {
      "text/html": [
       "<div>\n",
       "<style scoped>\n",
       "    .dataframe tbody tr th:only-of-type {\n",
       "        vertical-align: middle;\n",
       "    }\n",
       "\n",
       "    .dataframe tbody tr th {\n",
       "        vertical-align: top;\n",
       "    }\n",
       "\n",
       "    .dataframe thead th {\n",
       "        text-align: right;\n",
       "    }\n",
       "</style>\n",
       "<table border=\"1\" class=\"dataframe\">\n",
       "  <thead>\n",
       "    <tr style=\"text-align: right;\">\n",
       "      <th></th>\n",
       "      <th>hour_of_day</th>\n",
       "      <th>year</th>\n",
       "      <th>month</th>\n",
       "      <th>day_of_week</th>\n",
       "      <th>day_of_year</th>\n",
       "      <th>week_of_year</th>\n",
       "      <th>quarter</th>\n",
       "      <th>stat_hol</th>\n",
       "      <th>day_light_hours</th>\n",
       "    </tr>\n",
       "  </thead>\n",
       "  <tbody>\n",
       "    <tr>\n",
       "      <td>1994-01-01 00:00:00</td>\n",
       "      <td>0</td>\n",
       "      <td>1994</td>\n",
       "      <td>1</td>\n",
       "      <td>5</td>\n",
       "      <td>1</td>\n",
       "      <td>52</td>\n",
       "      <td>1</td>\n",
       "      <td>True</td>\n",
       "      <td>False</td>\n",
       "    </tr>\n",
       "    <tr>\n",
       "      <td>1994-01-01 01:00:00</td>\n",
       "      <td>1</td>\n",
       "      <td>1994</td>\n",
       "      <td>1</td>\n",
       "      <td>5</td>\n",
       "      <td>1</td>\n",
       "      <td>52</td>\n",
       "      <td>1</td>\n",
       "      <td>True</td>\n",
       "      <td>False</td>\n",
       "    </tr>\n",
       "    <tr>\n",
       "      <td>1994-01-01 02:00:00</td>\n",
       "      <td>2</td>\n",
       "      <td>1994</td>\n",
       "      <td>1</td>\n",
       "      <td>5</td>\n",
       "      <td>1</td>\n",
       "      <td>52</td>\n",
       "      <td>1</td>\n",
       "      <td>True</td>\n",
       "      <td>False</td>\n",
       "    </tr>\n",
       "    <tr>\n",
       "      <td>1994-01-01 03:00:00</td>\n",
       "      <td>3</td>\n",
       "      <td>1994</td>\n",
       "      <td>1</td>\n",
       "      <td>5</td>\n",
       "      <td>1</td>\n",
       "      <td>52</td>\n",
       "      <td>1</td>\n",
       "      <td>True</td>\n",
       "      <td>False</td>\n",
       "    </tr>\n",
       "    <tr>\n",
       "      <td>1994-01-01 04:00:00</td>\n",
       "      <td>4</td>\n",
       "      <td>1994</td>\n",
       "      <td>1</td>\n",
       "      <td>5</td>\n",
       "      <td>1</td>\n",
       "      <td>52</td>\n",
       "      <td>1</td>\n",
       "      <td>True</td>\n",
       "      <td>False</td>\n",
       "    </tr>\n",
       "  </tbody>\n",
       "</table>\n",
       "</div>"
      ],
      "text/plain": [
       "                     hour_of_day  year  month  day_of_week  day_of_year  \\\n",
       "1994-01-01 00:00:00            0  1994      1            5            1   \n",
       "1994-01-01 01:00:00            1  1994      1            5            1   \n",
       "1994-01-01 02:00:00            2  1994      1            5            1   \n",
       "1994-01-01 03:00:00            3  1994      1            5            1   \n",
       "1994-01-01 04:00:00            4  1994      1            5            1   \n",
       "\n",
       "                     week_of_year  quarter  stat_hol  day_light_hours  \n",
       "1994-01-01 00:00:00            52        1      True            False  \n",
       "1994-01-01 01:00:00            52        1      True            False  \n",
       "1994-01-01 02:00:00            52        1      True            False  \n",
       "1994-01-01 03:00:00            52        1      True            False  \n",
       "1994-01-01 04:00:00            52        1      True            False  "
      ]
     },
     "execution_count": 11,
     "metadata": {},
     "output_type": "execute_result"
    }
   ],
   "source": [
    "def get_daylight_hours(row, city):\n",
    "    sun = city.sun(date=row.name, local=True)\n",
    "    sunrise = sun['sunrise'].replace(tzinfo=None) ; sunset = sun['sunset'].replace(tzinfo=None)\n",
    "    bool_val = (row.name > sunrise) & (row.name < sunset)\n",
    "    return bool_val\n",
    "\n",
    "\n",
    "a = Astral()\n",
    "city = a['Toronto']\n",
    "features_df['day_light_hours'] = features_df.apply(get_daylight_hours, city=city, axis=1)\n",
    "features_df.head()"
   ]
  },
  {
   "cell_type": "code",
   "execution_count": 12,
   "metadata": {
    "collapsed": false
   },
   "outputs": [
    {
     "data": {
      "text/html": [
       "<div>\n",
       "<style scoped>\n",
       "    .dataframe tbody tr th:only-of-type {\n",
       "        vertical-align: middle;\n",
       "    }\n",
       "\n",
       "    .dataframe tbody tr th {\n",
       "        vertical-align: top;\n",
       "    }\n",
       "\n",
       "    .dataframe thead th {\n",
       "        text-align: right;\n",
       "    }\n",
       "</style>\n",
       "<table border=\"1\" class=\"dataframe\">\n",
       "  <thead>\n",
       "    <tr style=\"text-align: right;\">\n",
       "      <th></th>\n",
       "      <th>hour_of_day</th>\n",
       "      <th>year</th>\n",
       "      <th>month</th>\n",
       "      <th>day_of_week</th>\n",
       "      <th>day_of_year</th>\n",
       "      <th>week_of_year</th>\n",
       "      <th>quarter</th>\n",
       "      <th>stat_hol</th>\n",
       "      <th>day_light_hours</th>\n",
       "    </tr>\n",
       "  </thead>\n",
       "  <tbody>\n",
       "    <tr>\n",
       "      <td>2019-06-03 19:00:00</td>\n",
       "      <td>19</td>\n",
       "      <td>2019</td>\n",
       "      <td>6</td>\n",
       "      <td>0</td>\n",
       "      <td>154</td>\n",
       "      <td>23</td>\n",
       "      <td>2</td>\n",
       "      <td>False</td>\n",
       "      <td>True</td>\n",
       "    </tr>\n",
       "    <tr>\n",
       "      <td>2019-06-03 20:00:00</td>\n",
       "      <td>20</td>\n",
       "      <td>2019</td>\n",
       "      <td>6</td>\n",
       "      <td>0</td>\n",
       "      <td>154</td>\n",
       "      <td>23</td>\n",
       "      <td>2</td>\n",
       "      <td>False</td>\n",
       "      <td>True</td>\n",
       "    </tr>\n",
       "    <tr>\n",
       "      <td>2019-06-03 21:00:00</td>\n",
       "      <td>21</td>\n",
       "      <td>2019</td>\n",
       "      <td>6</td>\n",
       "      <td>0</td>\n",
       "      <td>154</td>\n",
       "      <td>23</td>\n",
       "      <td>2</td>\n",
       "      <td>False</td>\n",
       "      <td>False</td>\n",
       "    </tr>\n",
       "    <tr>\n",
       "      <td>2019-06-03 22:00:00</td>\n",
       "      <td>22</td>\n",
       "      <td>2019</td>\n",
       "      <td>6</td>\n",
       "      <td>0</td>\n",
       "      <td>154</td>\n",
       "      <td>23</td>\n",
       "      <td>2</td>\n",
       "      <td>False</td>\n",
       "      <td>False</td>\n",
       "    </tr>\n",
       "    <tr>\n",
       "      <td>2019-06-03 23:00:00</td>\n",
       "      <td>23</td>\n",
       "      <td>2019</td>\n",
       "      <td>6</td>\n",
       "      <td>0</td>\n",
       "      <td>154</td>\n",
       "      <td>23</td>\n",
       "      <td>2</td>\n",
       "      <td>False</td>\n",
       "      <td>False</td>\n",
       "    </tr>\n",
       "  </tbody>\n",
       "</table>\n",
       "</div>"
      ],
      "text/plain": [
       "                     hour_of_day  year  month  day_of_week  day_of_year  \\\n",
       "2019-06-03 19:00:00           19  2019      6            0          154   \n",
       "2019-06-03 20:00:00           20  2019      6            0          154   \n",
       "2019-06-03 21:00:00           21  2019      6            0          154   \n",
       "2019-06-03 22:00:00           22  2019      6            0          154   \n",
       "2019-06-03 23:00:00           23  2019      6            0          154   \n",
       "\n",
       "                     week_of_year  quarter  stat_hol  day_light_hours  \n",
       "2019-06-03 19:00:00            23        2     False             True  \n",
       "2019-06-03 20:00:00            23        2     False             True  \n",
       "2019-06-03 21:00:00            23        2     False            False  \n",
       "2019-06-03 22:00:00            23        2     False            False  \n",
       "2019-06-03 23:00:00            23        2     False            False  "
      ]
     },
     "execution_count": 12,
     "metadata": {},
     "output_type": "execute_result"
    }
   ],
   "source": [
    "features_df.tail()"
   ]
  },
  {
   "cell_type": "code",
   "execution_count": 13,
   "metadata": {
    "collapsed": true
   },
   "outputs": [],
   "source": [
    "features_df.to_csv(CALCULATED_FEATURES_DATA_DIR / 'calendar.csv')"
   ]
  },
  {
   "cell_type": "code",
   "execution_count": 14,
   "metadata": {
    "collapsed": false
   },
   "outputs": [
    {
     "name": "stdout",
     "output_type": "stream",
     "text": [
      "<class 'pandas.core.frame.DataFrame'>\n",
      "DatetimeIndex: 222840 entries, 1994-01-01 00:00:00 to 2019-06-03 23:00:00\n",
      "Data columns (total 9 columns):\n",
      "hour_of_day        222840 non-null int64\n",
      "year               222840 non-null int64\n",
      "month              222840 non-null int64\n",
      "day_of_week        222840 non-null int64\n",
      "day_of_year        222840 non-null int64\n",
      "week_of_year       222840 non-null int64\n",
      "quarter            222840 non-null int64\n",
      "stat_hol           222840 non-null bool\n",
      "day_light_hours    222840 non-null bool\n",
      "dtypes: bool(2), int64(7)\n",
      "memory usage: 24.0 MB\n"
     ]
    }
   ],
   "source": [
    "features_df.info()"
   ]
  },
  {
   "cell_type": "code",
   "execution_count": null,
   "metadata": {
    "collapsed": true
   },
   "outputs": [],
   "source": []
  },
  {
   "cell_type": "code",
   "execution_count": null,
   "metadata": {
    "collapsed": true
   },
   "outputs": [],
   "source": []
  }
 ],
 "metadata": {
  "anaconda-cloud": {},
  "kernelspec": {
   "display_name": "Python [conda env:ana_py37tf]",
   "language": "python",
   "name": "conda-env-ana_py37tf-py"
  },
  "language_info": {
   "codemirror_mode": {
    "name": "ipython",
    "version": 3
   },
   "file_extension": ".py",
   "mimetype": "text/x-python",
   "name": "python",
   "nbconvert_exporter": "python",
   "pygments_lexer": "ipython3",
   "version": "3.7.3"
  }
 },
 "nbformat": 4,
 "nbformat_minor": 2
}
