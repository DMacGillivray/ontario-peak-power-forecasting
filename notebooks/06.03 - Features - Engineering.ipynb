{
 "cells": [
  {
   "cell_type": "markdown",
   "metadata": {},
   "source": [
    "# 06.03 - Feature Engineering"
   ]
  },
  {
   "cell_type": "markdown",
   "metadata": {},
   "source": [
    "## Imports & setup"
   ]
  },
  {
   "cell_type": "code",
   "execution_count": 1,
   "metadata": {
    "collapsed": false
   },
   "outputs": [],
   "source": [
    "import pathlib\n",
    "from datetime import datetime\n",
    "import math\n",
    "import sys\n",
    "\n",
    "import pandas as pd\n",
    "import numpy as np\n",
    "\n",
    "import matplotlib as mpl\n",
    "import matplotlib.pyplot as plt\n",
    "from matplotlib.dates import DateFormatter\n",
    "import matplotlib.dates as mdates\n",
    "import seaborn as sns\n",
    "\n",
    "from sklearn.metrics import mean_absolute_error\n",
    "from sklearn.pipeline import Pipeline\n",
    "from skoot.feature_selection import FeatureFilter\n",
    "from skoot.preprocessing import SelectiveRobustScaler\n",
    "\n",
    "sys.path.append(\"..\")\n",
    "from src.models.models import SetTempAsPower, SK_Prophet\n",
    "from src.utils.utils import bound_precision, AnnualTimeSeriesSplit\n",
    "from src.visualization.visualize import (plot_prediction,\n",
    "                                         plot_joint_plot,\n",
    "                                         residual_plots,\n",
    "                                         print_residual_stats,\n",
    "                                         seasonal_plot)\n",
    "\n",
    "%matplotlib inline\n",
    "\n",
    "PROJECT_DIR = pathlib.Path.cwd().parent.resolve()\n",
    "CLEAN_DATA_DIR = PROJECT_DIR / 'data' / '05-clean'\n",
    "\n",
    "\n",
    "pd.set_option('display.max_columns', 500)\n",
    "pd.set_option('display.width', 1000)"
   ]
  },
  {
   "cell_type": "markdown",
   "metadata": {},
   "source": [
    "## Load Daily Data & Inspect"
   ]
  },
  {
   "cell_type": "code",
   "execution_count": 2,
   "metadata": {
    "collapsed": true
   },
   "outputs": [],
   "source": [
    "df = pd.read_csv(CLEAN_DATA_DIR / 'clean-features.csv', parse_dates=True, index_col=0)"
   ]
  },
  {
   "cell_type": "code",
   "execution_count": 3,
   "metadata": {
    "collapsed": false
   },
   "outputs": [
    {
     "data": {
      "text/html": [
       "<div>\n",
       "<style scoped>\n",
       "    .dataframe tbody tr th:only-of-type {\n",
       "        vertical-align: middle;\n",
       "    }\n",
       "\n",
       "    .dataframe tbody tr th {\n",
       "        vertical-align: top;\n",
       "    }\n",
       "\n",
       "    .dataframe thead th {\n",
       "        text-align: right;\n",
       "    }\n",
       "</style>\n",
       "<table border=\"1\" class=\"dataframe\">\n",
       "  <thead>\n",
       "    <tr style=\"text-align: right;\">\n",
       "      <th></th>\n",
       "      <th>hmdxx_min</th>\n",
       "      <th>hmdxx_max</th>\n",
       "      <th>hmdxx_median-1</th>\n",
       "      <th>hmdxx_max_hour</th>\n",
       "      <th>temp_min</th>\n",
       "      <th>temp_max</th>\n",
       "      <th>dew_point_temp_max</th>\n",
       "      <th>sun_rise</th>\n",
       "      <th>sun_set</th>\n",
       "      <th>visibility_mean</th>\n",
       "      <th>day_of_week</th>\n",
       "      <th>week_of_year</th>\n",
       "      <th>day_type</th>\n",
       "      <th>daily_peak</th>\n",
       "    </tr>\n",
       "  </thead>\n",
       "  <tbody>\n",
       "    <tr>\n",
       "      <td>1994-05-24</td>\n",
       "      <td>8.998045</td>\n",
       "      <td>19.818202</td>\n",
       "      <td>19.655075</td>\n",
       "      <td>15.0</td>\n",
       "      <td>9.0</td>\n",
       "      <td>19.6</td>\n",
       "      <td>13.4</td>\n",
       "      <td>6.0</td>\n",
       "      <td>21.0</td>\n",
       "      <td>24.975000</td>\n",
       "      <td>1.0</td>\n",
       "      <td>21.0</td>\n",
       "      <td>2</td>\n",
       "      <td>16173.0</td>\n",
       "    </tr>\n",
       "    <tr>\n",
       "      <td>1994-05-25</td>\n",
       "      <td>11.406291</td>\n",
       "      <td>20.665711</td>\n",
       "      <td>17.205396</td>\n",
       "      <td>18.0</td>\n",
       "      <td>10.4</td>\n",
       "      <td>18.2</td>\n",
       "      <td>14.0</td>\n",
       "      <td>6.0</td>\n",
       "      <td>21.0</td>\n",
       "      <td>9.358333</td>\n",
       "      <td>2.0</td>\n",
       "      <td>21.0</td>\n",
       "      <td>0</td>\n",
       "      <td>16017.0</td>\n",
       "    </tr>\n",
       "    <tr>\n",
       "      <td>1994-05-26</td>\n",
       "      <td>2.563201</td>\n",
       "      <td>15.259916</td>\n",
       "      <td>17.722172</td>\n",
       "      <td>2.0</td>\n",
       "      <td>3.9</td>\n",
       "      <td>13.0</td>\n",
       "      <td>12.3</td>\n",
       "      <td>6.0</td>\n",
       "      <td>21.0</td>\n",
       "      <td>9.650000</td>\n",
       "      <td>3.0</td>\n",
       "      <td>21.0</td>\n",
       "      <td>0</td>\n",
       "      <td>16656.0</td>\n",
       "    </tr>\n",
       "    <tr>\n",
       "      <td>1994-05-27</td>\n",
       "      <td>-0.012865</td>\n",
       "      <td>12.970553</td>\n",
       "      <td>6.567827</td>\n",
       "      <td>17.0</td>\n",
       "      <td>2.0</td>\n",
       "      <td>14.8</td>\n",
       "      <td>2.3</td>\n",
       "      <td>6.0</td>\n",
       "      <td>21.0</td>\n",
       "      <td>34.500000</td>\n",
       "      <td>4.0</td>\n",
       "      <td>21.0</td>\n",
       "      <td>0</td>\n",
       "      <td>16252.0</td>\n",
       "    </tr>\n",
       "    <tr>\n",
       "      <td>1994-05-30</td>\n",
       "      <td>13.632519</td>\n",
       "      <td>30.133976</td>\n",
       "      <td>18.724332</td>\n",
       "      <td>14.0</td>\n",
       "      <td>13.1</td>\n",
       "      <td>27.2</td>\n",
       "      <td>13.6</td>\n",
       "      <td>6.0</td>\n",
       "      <td>21.0</td>\n",
       "      <td>22.270833</td>\n",
       "      <td>0.0</td>\n",
       "      <td>22.0</td>\n",
       "      <td>0</td>\n",
       "      <td>16525.0</td>\n",
       "    </tr>\n",
       "  </tbody>\n",
       "</table>\n",
       "</div>"
      ],
      "text/plain": [
       "            hmdxx_min  hmdxx_max  hmdxx_median-1  hmdxx_max_hour  temp_min  temp_max  dew_point_temp_max  sun_rise  sun_set  visibility_mean  day_of_week  week_of_year  day_type  daily_peak\n",
       "1994-05-24   8.998045  19.818202       19.655075            15.0       9.0      19.6                13.4       6.0     21.0        24.975000          1.0          21.0         2     16173.0\n",
       "1994-05-25  11.406291  20.665711       17.205396            18.0      10.4      18.2                14.0       6.0     21.0         9.358333          2.0          21.0         0     16017.0\n",
       "1994-05-26   2.563201  15.259916       17.722172             2.0       3.9      13.0                12.3       6.0     21.0         9.650000          3.0          21.0         0     16656.0\n",
       "1994-05-27  -0.012865  12.970553        6.567827            17.0       2.0      14.8                 2.3       6.0     21.0        34.500000          4.0          21.0         0     16252.0\n",
       "1994-05-30  13.632519  30.133976       18.724332            14.0      13.1      27.2                13.6       6.0     21.0        22.270833          0.0          22.0         0     16525.0"
      ]
     },
     "execution_count": 3,
     "metadata": {},
     "output_type": "execute_result"
    }
   ],
   "source": [
    "df.head()"
   ]
  },
  {
   "cell_type": "code",
   "execution_count": 4,
   "metadata": {
    "collapsed": false
   },
   "outputs": [
    {
     "data": {
      "text/html": [
       "<div>\n",
       "<style scoped>\n",
       "    .dataframe tbody tr th:only-of-type {\n",
       "        vertical-align: middle;\n",
       "    }\n",
       "\n",
       "    .dataframe tbody tr th {\n",
       "        vertical-align: top;\n",
       "    }\n",
       "\n",
       "    .dataframe thead th {\n",
       "        text-align: right;\n",
       "    }\n",
       "</style>\n",
       "<table border=\"1\" class=\"dataframe\">\n",
       "  <thead>\n",
       "    <tr style=\"text-align: right;\">\n",
       "      <th></th>\n",
       "      <th>hmdxx_min</th>\n",
       "      <th>hmdxx_max</th>\n",
       "      <th>hmdxx_median-1</th>\n",
       "      <th>hmdxx_max_hour</th>\n",
       "      <th>temp_min</th>\n",
       "      <th>temp_max</th>\n",
       "      <th>dew_point_temp_max</th>\n",
       "      <th>sun_rise</th>\n",
       "      <th>sun_set</th>\n",
       "      <th>visibility_mean</th>\n",
       "      <th>day_of_week</th>\n",
       "      <th>week_of_year</th>\n",
       "      <th>day_type</th>\n",
       "      <th>daily_peak</th>\n",
       "    </tr>\n",
       "  </thead>\n",
       "  <tbody>\n",
       "    <tr>\n",
       "      <td>2018-10-01</td>\n",
       "      <td>7.548996</td>\n",
       "      <td>13.718202</td>\n",
       "      <td>11.013424</td>\n",
       "      <td>23.0</td>\n",
       "      <td>7.8</td>\n",
       "      <td>12.3</td>\n",
       "      <td>10.3</td>\n",
       "      <td>8.0</td>\n",
       "      <td>19.0</td>\n",
       "      <td>16.291667</td>\n",
       "      <td>0.0</td>\n",
       "      <td>40.0</td>\n",
       "      <td>0</td>\n",
       "      <td>16531.0</td>\n",
       "    </tr>\n",
       "    <tr>\n",
       "      <td>2018-10-02</td>\n",
       "      <td>9.447222</td>\n",
       "      <td>15.264688</td>\n",
       "      <td>9.228735</td>\n",
       "      <td>14.0</td>\n",
       "      <td>9.2</td>\n",
       "      <td>12.9</td>\n",
       "      <td>12.2</td>\n",
       "      <td>8.0</td>\n",
       "      <td>19.0</td>\n",
       "      <td>10.729167</td>\n",
       "      <td>1.0</td>\n",
       "      <td>40.0</td>\n",
       "      <td>0</td>\n",
       "      <td>16772.0</td>\n",
       "    </tr>\n",
       "    <tr>\n",
       "      <td>2018-10-03</td>\n",
       "      <td>12.186593</td>\n",
       "      <td>20.369401</td>\n",
       "      <td>12.113850</td>\n",
       "      <td>23.0</td>\n",
       "      <td>11.0</td>\n",
       "      <td>16.4</td>\n",
       "      <td>15.0</td>\n",
       "      <td>8.0</td>\n",
       "      <td>19.0</td>\n",
       "      <td>22.966667</td>\n",
       "      <td>2.0</td>\n",
       "      <td>40.0</td>\n",
       "      <td>0</td>\n",
       "      <td>16212.0</td>\n",
       "    </tr>\n",
       "    <tr>\n",
       "      <td>2018-10-04</td>\n",
       "      <td>6.612192</td>\n",
       "      <td>30.070535</td>\n",
       "      <td>15.509242</td>\n",
       "      <td>4.0</td>\n",
       "      <td>7.9</td>\n",
       "      <td>22.5</td>\n",
       "      <td>20.5</td>\n",
       "      <td>8.0</td>\n",
       "      <td>19.0</td>\n",
       "      <td>23.433333</td>\n",
       "      <td>3.0</td>\n",
       "      <td>40.0</td>\n",
       "      <td>0</td>\n",
       "      <td>16061.0</td>\n",
       "    </tr>\n",
       "    <tr>\n",
       "      <td>2018-10-05</td>\n",
       "      <td>3.412831</td>\n",
       "      <td>12.228666</td>\n",
       "      <td>19.348456</td>\n",
       "      <td>23.0</td>\n",
       "      <td>5.4</td>\n",
       "      <td>12.1</td>\n",
       "      <td>7.3</td>\n",
       "      <td>8.0</td>\n",
       "      <td>19.0</td>\n",
       "      <td>24.100000</td>\n",
       "      <td>4.0</td>\n",
       "      <td>40.0</td>\n",
       "      <td>0</td>\n",
       "      <td>16269.0</td>\n",
       "    </tr>\n",
       "  </tbody>\n",
       "</table>\n",
       "</div>"
      ],
      "text/plain": [
       "            hmdxx_min  hmdxx_max  hmdxx_median-1  hmdxx_max_hour  temp_min  temp_max  dew_point_temp_max  sun_rise  sun_set  visibility_mean  day_of_week  week_of_year  day_type  daily_peak\n",
       "2018-10-01   7.548996  13.718202       11.013424            23.0       7.8      12.3                10.3       8.0     19.0        16.291667          0.0          40.0         0     16531.0\n",
       "2018-10-02   9.447222  15.264688        9.228735            14.0       9.2      12.9                12.2       8.0     19.0        10.729167          1.0          40.0         0     16772.0\n",
       "2018-10-03  12.186593  20.369401       12.113850            23.0      11.0      16.4                15.0       8.0     19.0        22.966667          2.0          40.0         0     16212.0\n",
       "2018-10-04   6.612192  30.070535       15.509242             4.0       7.9      22.5                20.5       8.0     19.0        23.433333          3.0          40.0         0     16061.0\n",
       "2018-10-05   3.412831  12.228666       19.348456            23.0       5.4      12.1                 7.3       8.0     19.0        24.100000          4.0          40.0         0     16269.0"
      ]
     },
     "execution_count": 4,
     "metadata": {},
     "output_type": "execute_result"
    }
   ],
   "source": [
    "df.tail()"
   ]
  },
  {
   "cell_type": "code",
   "execution_count": 5,
   "metadata": {
    "collapsed": false
   },
   "outputs": [
    {
     "name": "stdout",
     "output_type": "stream",
     "text": [
      "<class 'pandas.core.frame.DataFrame'>\n",
      "DatetimeIndex: 2400 entries, 1994-05-24 to 2018-10-05\n",
      "Data columns (total 14 columns):\n",
      "hmdxx_min             2400 non-null float64\n",
      "hmdxx_max             2400 non-null float64\n",
      "hmdxx_median-1        2400 non-null float64\n",
      "hmdxx_max_hour        2400 non-null float64\n",
      "temp_min              2400 non-null float64\n",
      "temp_max              2400 non-null float64\n",
      "dew_point_temp_max    2400 non-null float64\n",
      "sun_rise              2400 non-null float64\n",
      "sun_set               2400 non-null float64\n",
      "visibility_mean       2400 non-null float64\n",
      "day_of_week           2400 non-null float64\n",
      "week_of_year          2400 non-null float64\n",
      "day_type              2400 non-null int64\n",
      "daily_peak            2400 non-null float64\n",
      "dtypes: float64(13), int64(1)\n",
      "memory usage: 281.2 KB\n"
     ]
    }
   ],
   "source": [
    "df.info()"
   ]
  },
  {
   "cell_type": "markdown",
   "metadata": {},
   "source": [
    "## Custom Transformers"
   ]
  },
  {
   "cell_type": "markdown",
   "metadata": {},
   "source": [
    "### CyclicalToCycle Transformer\n",
    "\n",
    "Transforms cyclical data from original format into sin and cosine waves.\n",
    "\n",
    "Without transformation 23:55 (11:55PM) and 0:05 AM look like they are very far apart, whereas in fact they are very close - only 10 minutes apart.\n",
    "\n",
    "Transformation into sin and cosine waves rectifies this problem. However, it means that 2 columns are neded to specify the feature instead of one.\n",
    "\n",
    "http://blog.davidkaleko.com/feature-engineering-cyclical-features.html\n",
    "\n",
    "https://ianlondon.github.io/blog/encoding-cyclical-features-24hour-time/\n"
   ]
  },
  {
   "cell_type": "code",
   "execution_count": 6,
   "metadata": {
    "collapsed": true
   },
   "outputs": [],
   "source": [
    "from sklearn.base import BaseEstimator, TransformerMixin\n",
    "from sklearn.utils.validation import check_X_y, check_array, check_is_fitted\n",
    "\n",
    "class CyclicalToCycle(BaseEstimator, TransformerMixin):\n",
    "    \"\"\" A transformer that returns the sin and cosine values of a cyclical sequence\n",
    "    For more information regarding how to build your own transformer, read more\n",
    "    in the :ref:`User Guide <user_guide>`.\n",
    "    Parameters\n",
    "    ----------\n",
    "    demo_param : str, default='demo'\n",
    "        A parameter used for demonstation of how to pass and store paramters.\n",
    "    Attributes\n",
    "    ----------\n",
    "    n_features_ : int\n",
    "        The number of features of the data passed to :meth:`fit`.\n",
    "    \"\"\"\n",
    "    def __init__(self, cycle_name='time_of_day', periods_per_cycle=24):\n",
    "        self.cycle_name=cycle_name\n",
    "        self.periods_per_cycle= periods_per_cycle\n",
    "\n",
    "    def fit(self, X, y=None):\n",
    "        \"\"\"A reference implementation of a fitting function for a transformer.\n",
    "        Parameters\n",
    "        ----------\n",
    "        X : {array-like, sparse matrix}, shape (n_samples, n_features)\n",
    "            The training input samples.\n",
    "        y : None\n",
    "            There is no need of a target in a transformer, yet the pipeline API\n",
    "            requires this parameter.\n",
    "        Returns\n",
    "        -------\n",
    "        self : object\n",
    "            Returns self.\n",
    "        \"\"\"\n",
    "        return self\n",
    "\n",
    "    def transform(self, X):\n",
    "        \"\"\" A reference implementation of a transform function.\n",
    "        Parameters\n",
    "        ----------\n",
    "        X : {array-like, sparse-matrix}, shape (n_samples, n_features)\n",
    "            The input samples.\n",
    "        Returns\n",
    "        -------\n",
    "        X_transformed : array, shape (n_samples, n_features)\n",
    "            The array containing the element-wise square roots of the values\n",
    "            in ``X``.\n",
    "        \"\"\"\n",
    "        X = X.copy(deep=True)\n",
    "        X['sin_' + self.cycle_name] = np.sin(2*np.pi*X[self.cycle_name] / self.periods_per_cycle)\n",
    "        X['cos_' + self.cycle_name] = np.cos(2*np.pi*X[self.cycle_name] / self.periods_per_cycle)\n",
    "        X.drop([self.cycle_name], axis=1, inplace=True)\n",
    "        \n",
    "        return X"
   ]
  },
  {
   "cell_type": "code",
   "execution_count": 7,
   "metadata": {
    "collapsed": false
   },
   "outputs": [],
   "source": [
    "df = df.loc['1994': '1998']\n",
    "y = df.pop('daily_peak')\n",
    "X = df"
   ]
  },
  {
   "cell_type": "code",
   "execution_count": 8,
   "metadata": {
    "collapsed": false
   },
   "outputs": [
    {
     "name": "stderr",
     "output_type": "stream",
     "text": [
      "INFO:numexpr.utils:NumExpr defaulting to 4 threads.\n"
     ]
    }
   ],
   "source": [
    "cycler = CyclicalToCycle(cycle_name='hmdxx_max_hour', periods_per_cycle=24)\n",
    "cycler.fit(X)\n",
    "Xt = cycler.transform(X)"
   ]
  },
  {
   "cell_type": "code",
   "execution_count": 9,
   "metadata": {
    "collapsed": true
   },
   "outputs": [],
   "source": [
    "cycler = CyclicalToCycle(cycle_name='day_of_week', periods_per_cycle=5)\n",
    "cycler.fit(Xt)\n",
    "Xt = cycler.transform(Xt)"
   ]
  },
  {
   "cell_type": "code",
   "execution_count": 10,
   "metadata": {
    "collapsed": false
   },
   "outputs": [],
   "source": [
    "cycler = CyclicalToCycle(cycle_name='week_of_year', periods_per_cycle=20)\n",
    "cycler.fit(Xt)\n",
    "Xt = cycler.transform(Xt)"
   ]
  },
  {
   "cell_type": "code",
   "execution_count": 11,
   "metadata": {
    "collapsed": false,
    "scrolled": true
   },
   "outputs": [
    {
     "data": {
      "text/html": [
       "<div>\n",
       "<style scoped>\n",
       "    .dataframe tbody tr th:only-of-type {\n",
       "        vertical-align: middle;\n",
       "    }\n",
       "\n",
       "    .dataframe tbody tr th {\n",
       "        vertical-align: top;\n",
       "    }\n",
       "\n",
       "    .dataframe thead th {\n",
       "        text-align: right;\n",
       "    }\n",
       "</style>\n",
       "<table border=\"1\" class=\"dataframe\">\n",
       "  <thead>\n",
       "    <tr style=\"text-align: right;\">\n",
       "      <th></th>\n",
       "      <th>hmdxx_min</th>\n",
       "      <th>hmdxx_max</th>\n",
       "      <th>hmdxx_median-1</th>\n",
       "      <th>temp_min</th>\n",
       "      <th>temp_max</th>\n",
       "      <th>dew_point_temp_max</th>\n",
       "      <th>sun_rise</th>\n",
       "      <th>sun_set</th>\n",
       "      <th>visibility_mean</th>\n",
       "      <th>day_type</th>\n",
       "      <th>sin_hmdxx_max_hour</th>\n",
       "      <th>cos_hmdxx_max_hour</th>\n",
       "      <th>sin_day_of_week</th>\n",
       "      <th>cos_day_of_week</th>\n",
       "      <th>sin_week_of_year</th>\n",
       "      <th>cos_week_of_year</th>\n",
       "    </tr>\n",
       "  </thead>\n",
       "  <tbody>\n",
       "    <tr>\n",
       "      <td>1994-05-24</td>\n",
       "      <td>8.998045</td>\n",
       "      <td>19.818202</td>\n",
       "      <td>19.655075</td>\n",
       "      <td>9.0</td>\n",
       "      <td>19.6</td>\n",
       "      <td>13.4</td>\n",
       "      <td>6.0</td>\n",
       "      <td>21.0</td>\n",
       "      <td>24.975000</td>\n",
       "      <td>2</td>\n",
       "      <td>-0.707107</td>\n",
       "      <td>-7.071068e-01</td>\n",
       "      <td>0.951057</td>\n",
       "      <td>0.309017</td>\n",
       "      <td>0.309017</td>\n",
       "      <td>0.951057</td>\n",
       "    </tr>\n",
       "    <tr>\n",
       "      <td>1994-05-25</td>\n",
       "      <td>11.406291</td>\n",
       "      <td>20.665711</td>\n",
       "      <td>17.205396</td>\n",
       "      <td>10.4</td>\n",
       "      <td>18.2</td>\n",
       "      <td>14.0</td>\n",
       "      <td>6.0</td>\n",
       "      <td>21.0</td>\n",
       "      <td>9.358333</td>\n",
       "      <td>0</td>\n",
       "      <td>-1.000000</td>\n",
       "      <td>-1.836970e-16</td>\n",
       "      <td>0.587785</td>\n",
       "      <td>-0.809017</td>\n",
       "      <td>0.309017</td>\n",
       "      <td>0.951057</td>\n",
       "    </tr>\n",
       "    <tr>\n",
       "      <td>1994-05-26</td>\n",
       "      <td>2.563201</td>\n",
       "      <td>15.259916</td>\n",
       "      <td>17.722172</td>\n",
       "      <td>3.9</td>\n",
       "      <td>13.0</td>\n",
       "      <td>12.3</td>\n",
       "      <td>6.0</td>\n",
       "      <td>21.0</td>\n",
       "      <td>9.650000</td>\n",
       "      <td>0</td>\n",
       "      <td>0.500000</td>\n",
       "      <td>8.660254e-01</td>\n",
       "      <td>-0.587785</td>\n",
       "      <td>-0.809017</td>\n",
       "      <td>0.309017</td>\n",
       "      <td>0.951057</td>\n",
       "    </tr>\n",
       "    <tr>\n",
       "      <td>1994-05-27</td>\n",
       "      <td>-0.012865</td>\n",
       "      <td>12.970553</td>\n",
       "      <td>6.567827</td>\n",
       "      <td>2.0</td>\n",
       "      <td>14.8</td>\n",
       "      <td>2.3</td>\n",
       "      <td>6.0</td>\n",
       "      <td>21.0</td>\n",
       "      <td>34.500000</td>\n",
       "      <td>0</td>\n",
       "      <td>-0.965926</td>\n",
       "      <td>-2.588190e-01</td>\n",
       "      <td>-0.951057</td>\n",
       "      <td>0.309017</td>\n",
       "      <td>0.309017</td>\n",
       "      <td>0.951057</td>\n",
       "    </tr>\n",
       "    <tr>\n",
       "      <td>1994-05-30</td>\n",
       "      <td>13.632519</td>\n",
       "      <td>30.133976</td>\n",
       "      <td>18.724332</td>\n",
       "      <td>13.1</td>\n",
       "      <td>27.2</td>\n",
       "      <td>13.6</td>\n",
       "      <td>6.0</td>\n",
       "      <td>21.0</td>\n",
       "      <td>22.270833</td>\n",
       "      <td>0</td>\n",
       "      <td>-0.500000</td>\n",
       "      <td>-8.660254e-01</td>\n",
       "      <td>0.000000</td>\n",
       "      <td>1.000000</td>\n",
       "      <td>0.587785</td>\n",
       "      <td>0.809017</td>\n",
       "    </tr>\n",
       "  </tbody>\n",
       "</table>\n",
       "</div>"
      ],
      "text/plain": [
       "            hmdxx_min  hmdxx_max  hmdxx_median-1  temp_min  temp_max  dew_point_temp_max  sun_rise  sun_set  visibility_mean  day_type  sin_hmdxx_max_hour  cos_hmdxx_max_hour  sin_day_of_week  cos_day_of_week  sin_week_of_year  cos_week_of_year\n",
       "1994-05-24   8.998045  19.818202       19.655075       9.0      19.6                13.4       6.0     21.0        24.975000         2           -0.707107       -7.071068e-01         0.951057         0.309017          0.309017          0.951057\n",
       "1994-05-25  11.406291  20.665711       17.205396      10.4      18.2                14.0       6.0     21.0         9.358333         0           -1.000000       -1.836970e-16         0.587785        -0.809017          0.309017          0.951057\n",
       "1994-05-26   2.563201  15.259916       17.722172       3.9      13.0                12.3       6.0     21.0         9.650000         0            0.500000        8.660254e-01        -0.587785        -0.809017          0.309017          0.951057\n",
       "1994-05-27  -0.012865  12.970553        6.567827       2.0      14.8                 2.3       6.0     21.0        34.500000         0           -0.965926       -2.588190e-01        -0.951057         0.309017          0.309017          0.951057\n",
       "1994-05-30  13.632519  30.133976       18.724332      13.1      27.2                13.6       6.0     21.0        22.270833         0           -0.500000       -8.660254e-01         0.000000         1.000000          0.587785          0.809017"
      ]
     },
     "execution_count": 11,
     "metadata": {},
     "output_type": "execute_result"
    }
   ],
   "source": [
    "Xt.head()"
   ]
  },
  {
   "cell_type": "code",
   "execution_count": 12,
   "metadata": {
    "collapsed": false
   },
   "outputs": [
    {
     "data": {
      "image/png": "[encoded data removed]",
      "text/plain": [
       "<Figure size 720x432 with 1 Axes>"
      ]
     },
     "metadata": {
      "needs_background": "light"
     },
     "output_type": "display_data"
    }
   ],
   "source": [
    "fig, ax = plt.subplots(figsize=(10,6))\n",
    "ax.plot(X.loc['1994', 'week_of_year'])\n",
    "ax.set_xlabel('Date (from Index)', fontsize=14)\n",
    "ax.set_ylabel('Week Number', fontsize=14)\n",
    "ax.set_ylim(20,40,1)\n",
    "ax.set_title('Raw Week of Year Feature', fontsize=16)\n",
    "plt.xticks(fontsize=12, rotation=90)\n",
    "plt.yticks(fontsize=12)\n",
    "plt.savefig(PROJECT_DIR / 'notebooks' / 'saved-images' / 'raw-cyclic-feature.PNG', bbox_inches='tight')\n",
    "plt.show();"
   ]
  },
  {
   "cell_type": "code",
   "execution_count": 13,
   "metadata": {
    "collapsed": false
   },
   "outputs": [
    {
     "data": {
      "image/png": "[encoded data removed]",
      "text/plain": [
       "<Figure size 576x576 with 1 Axes>"
      ]
     },
     "metadata": {
      "needs_background": "light"
     },
     "output_type": "display_data"
    }
   ],
   "source": [
    "fig, ax = plt.subplots(figsize=(8,8))\n",
    "Xt.loc['1994'].plot.scatter('sin_week_of_year','cos_week_of_year', ax=ax).set_aspect('equal')\n",
    "ax.set_xlabel('sin (week of year)', fontsize=14)\n",
    "ax.set_ylabel('cosine (week of year)', fontsize=14)\n",
    "ax.set_title('Transformed Week of Year Feature', fontsize=16)\n",
    "plt.xticks(fontsize=12)\n",
    "plt.yticks(fontsize=12)\n",
    "plt.savefig(PROJECT_DIR / 'notebooks' / 'saved-images' / 'transformed-cyclic-feature.PNG')\n",
    "plt.show();\n"
   ]
  },
  {
   "cell_type": "code",
   "execution_count": null,
   "metadata": {
    "collapsed": true
   },
   "outputs": [],
   "source": []
  }
 ],
 "metadata": {
  "anaconda-cloud": {},
  "kernelspec": {
   "display_name": "Python [conda env:ana_py37tf]",
   "language": "python",
   "name": "conda-env-ana_py37tf-py"
  },
  "language_info": {
   "codemirror_mode": {
    "name": "ipython",
    "version": 3
   },
   "file_extension": ".py",
   "mimetype": "text/x-python",
   "name": "python",
   "nbconvert_exporter": "python",
   "pygments_lexer": "ipython3",
   "version": "3.7.3"
  }
 },
 "nbformat": 4,
 "nbformat_minor": 2
}
