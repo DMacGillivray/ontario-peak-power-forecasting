{
 "cells": [
  {
   "cell_type": "markdown",
   "metadata": {},
   "source": [
    "# 05.07 - Modeling Setup - Data Splitting & Re-Combining"
   ]
  },
  {
   "cell_type": "markdown",
   "metadata": {},
   "source": [
    "## Imports & setup"
   ]
  },
  {
   "cell_type": "code",
   "execution_count": 12,
   "metadata": {
    "collapsed": false
   },
   "outputs": [],
   "source": [
    "import pathlib\n",
    "from datetime import datetime\n",
    "import math\n",
    "import sys\n",
    "\n",
    "import pandas as pd\n",
    "import numpy as np\n",
    "\n",
    "import matplotlib as mpl\n",
    "import matplotlib.pyplot as plt\n",
    "plt.style.use('grayscale')\n",
    "from matplotlib.dates import DateFormatter\n",
    "import matplotlib.dates as mdates\n",
    "\n",
    "from sklearn.metrics import mean_absolute_error\n",
    "from sklearn.pipeline import Pipeline\n",
    "from skoot.feature_selection import FeatureFilter\n",
    "from skoot.preprocessing import SelectiveRobustScaler\n",
    "\n",
    "sys.path.append(\"..\")\n",
    "from src.models.models import SetTempAsPower, SK_Prophet\n",
    "from src.utils.utils import bound_precision, AnnualTimeSeriesSplit, run_cross_val\n",
    "from src.visualization.visualize import (plot_prediction,\n",
    "                                         plot_joint_plot,\n",
    "                                         residual_plots,\n",
    "                                         print_residual_stats)\n",
    "\n",
    "%matplotlib inline\n",
    "\n",
    "PROJECT_DIR = pathlib.Path.cwd().parent.resolve()\n",
    "CLEAN_DATA_DIR = PROJECT_DIR / 'data' / '05-clean'\n",
    "\n",
    "pd.set_option('display.max_columns', 500)\n",
    "pd.set_option('display.width', 1000)"
   ]
  },
  {
   "cell_type": "markdown",
   "metadata": {},
   "source": [
    "## Load Test Data"
   ]
  },
  {
   "cell_type": "markdown",
   "metadata": {},
   "source": [
    "## Splitting Data (e.g. Monday Model, Tuesday Model ... )"
   ]
  },
  {
   "cell_type": "code",
   "execution_count": 2,
   "metadata": {
    "collapsed": true
   },
   "outputs": [],
   "source": [
    "df = pd.read_csv(CLEAN_DATA_DIR / 'clean-cut.csv', parse_dates=True, index_col=0)\n",
    "df = df.loc['1994': '2013']\n",
    "\n",
    "y = df.pop('daily_peak')\n",
    "X = df"
   ]
  },
  {
   "cell_type": "code",
   "execution_count": 3,
   "metadata": {
    "collapsed": false
   },
   "outputs": [
    {
     "data": {
      "text/html": [
       "<div>\n",
       "<style scoped>\n",
       "    .dataframe tbody tr th:only-of-type {\n",
       "        vertical-align: middle;\n",
       "    }\n",
       "\n",
       "    .dataframe tbody tr th {\n",
       "        vertical-align: top;\n",
       "    }\n",
       "\n",
       "    .dataframe thead th {\n",
       "        text-align: right;\n",
       "    }\n",
       "</style>\n",
       "<table border=\"1\" class=\"dataframe\">\n",
       "  <thead>\n",
       "    <tr style=\"text-align: right;\">\n",
       "      <th></th>\n",
       "      <th>temp</th>\n",
       "      <th>dew_point_temp</th>\n",
       "      <th>rel_hum</th>\n",
       "      <th>wind_speed</th>\n",
       "      <th>visibility</th>\n",
       "      <th>press</th>\n",
       "      <th>hmdx</th>\n",
       "      <th>wind_chill</th>\n",
       "      <th>weather</th>\n",
       "      <th>hour_of_day</th>\n",
       "      <th>year</th>\n",
       "      <th>month</th>\n",
       "      <th>day_of_week</th>\n",
       "      <th>day_of_year</th>\n",
       "      <th>week_of_year</th>\n",
       "      <th>quarter</th>\n",
       "      <th>stat_hol</th>\n",
       "      <th>day_light_hours</th>\n",
       "      <th>hourly_demand</th>\n",
       "    </tr>\n",
       "  </thead>\n",
       "  <tbody>\n",
       "    <tr>\n",
       "      <td>1994-01-01 00:00:00</td>\n",
       "      <td>-1.2</td>\n",
       "      <td>-3.8</td>\n",
       "      <td>83.0</td>\n",
       "      <td>15.0</td>\n",
       "      <td>19.3</td>\n",
       "      <td>99.91</td>\n",
       "      <td>NaN</td>\n",
       "      <td>-6.0</td>\n",
       "      <td>Cloudy</td>\n",
       "      <td>0.0</td>\n",
       "      <td>1994.0</td>\n",
       "      <td>1.0</td>\n",
       "      <td>5.0</td>\n",
       "      <td>1.0</td>\n",
       "      <td>52.0</td>\n",
       "      <td>1.0</td>\n",
       "      <td>True</td>\n",
       "      <td>False</td>\n",
       "      <td>14422.0</td>\n",
       "    </tr>\n",
       "    <tr>\n",
       "      <td>1994-01-01 01:00:00</td>\n",
       "      <td>-0.9</td>\n",
       "      <td>-3.0</td>\n",
       "      <td>86.0</td>\n",
       "      <td>20.0</td>\n",
       "      <td>16.1</td>\n",
       "      <td>99.91</td>\n",
       "      <td>NaN</td>\n",
       "      <td>-6.0</td>\n",
       "      <td>Cloudy</td>\n",
       "      <td>1.0</td>\n",
       "      <td>1994.0</td>\n",
       "      <td>1.0</td>\n",
       "      <td>5.0</td>\n",
       "      <td>1.0</td>\n",
       "      <td>52.0</td>\n",
       "      <td>1.0</td>\n",
       "      <td>True</td>\n",
       "      <td>False</td>\n",
       "      <td>13845.0</td>\n",
       "    </tr>\n",
       "    <tr>\n",
       "      <td>1994-01-01 02:00:00</td>\n",
       "      <td>-0.7</td>\n",
       "      <td>-3.2</td>\n",
       "      <td>83.0</td>\n",
       "      <td>15.0</td>\n",
       "      <td>16.1</td>\n",
       "      <td>99.87</td>\n",
       "      <td>NaN</td>\n",
       "      <td>-5.0</td>\n",
       "      <td>Cloudy</td>\n",
       "      <td>2.0</td>\n",
       "      <td>1994.0</td>\n",
       "      <td>1.0</td>\n",
       "      <td>5.0</td>\n",
       "      <td>1.0</td>\n",
       "      <td>52.0</td>\n",
       "      <td>1.0</td>\n",
       "      <td>True</td>\n",
       "      <td>False</td>\n",
       "      <td>13372.0</td>\n",
       "    </tr>\n",
       "    <tr>\n",
       "      <td>1994-01-01 03:00:00</td>\n",
       "      <td>-0.8</td>\n",
       "      <td>-2.4</td>\n",
       "      <td>89.0</td>\n",
       "      <td>15.0</td>\n",
       "      <td>12.9</td>\n",
       "      <td>99.81</td>\n",
       "      <td>NaN</td>\n",
       "      <td>-5.0</td>\n",
       "      <td>Cloudy</td>\n",
       "      <td>3.0</td>\n",
       "      <td>1994.0</td>\n",
       "      <td>1.0</td>\n",
       "      <td>5.0</td>\n",
       "      <td>1.0</td>\n",
       "      <td>52.0</td>\n",
       "      <td>1.0</td>\n",
       "      <td>True</td>\n",
       "      <td>False</td>\n",
       "      <td>13025.0</td>\n",
       "    </tr>\n",
       "    <tr>\n",
       "      <td>1994-01-01 04:00:00</td>\n",
       "      <td>-1.0</td>\n",
       "      <td>-3.3</td>\n",
       "      <td>84.0</td>\n",
       "      <td>19.0</td>\n",
       "      <td>16.1</td>\n",
       "      <td>99.77</td>\n",
       "      <td>NaN</td>\n",
       "      <td>-6.0</td>\n",
       "      <td>Mostly Cloudy</td>\n",
       "      <td>4.0</td>\n",
       "      <td>1994.0</td>\n",
       "      <td>1.0</td>\n",
       "      <td>5.0</td>\n",
       "      <td>1.0</td>\n",
       "      <td>52.0</td>\n",
       "      <td>1.0</td>\n",
       "      <td>True</td>\n",
       "      <td>False</td>\n",
       "      <td>12869.0</td>\n",
       "    </tr>\n",
       "  </tbody>\n",
       "</table>\n",
       "</div>"
      ],
      "text/plain": [
       "                     temp  dew_point_temp  rel_hum  wind_speed  visibility  press  hmdx  wind_chill        weather  hour_of_day    year  month  day_of_week  day_of_year  week_of_year  quarter  stat_hol  day_light_hours  hourly_demand\n",
       "1994-01-01 00:00:00  -1.2            -3.8     83.0        15.0        19.3  99.91   NaN        -6.0         Cloudy          0.0  1994.0    1.0          5.0          1.0          52.0      1.0      True            False        14422.0\n",
       "1994-01-01 01:00:00  -0.9            -3.0     86.0        20.0        16.1  99.91   NaN        -6.0         Cloudy          1.0  1994.0    1.0          5.0          1.0          52.0      1.0      True            False        13845.0\n",
       "1994-01-01 02:00:00  -0.7            -3.2     83.0        15.0        16.1  99.87   NaN        -5.0         Cloudy          2.0  1994.0    1.0          5.0          1.0          52.0      1.0      True            False        13372.0\n",
       "1994-01-01 03:00:00  -0.8            -2.4     89.0        15.0        12.9  99.81   NaN        -5.0         Cloudy          3.0  1994.0    1.0          5.0          1.0          52.0      1.0      True            False        13025.0\n",
       "1994-01-01 04:00:00  -1.0            -3.3     84.0        19.0        16.1  99.77   NaN        -6.0  Mostly Cloudy          4.0  1994.0    1.0          5.0          1.0          52.0      1.0      True            False        12869.0"
      ]
     },
     "execution_count": 3,
     "metadata": {},
     "output_type": "execute_result"
    }
   ],
   "source": [
    "X.head()"
   ]
  },
  {
   "cell_type": "code",
   "execution_count": 4,
   "metadata": {
    "collapsed": true
   },
   "outputs": [],
   "source": [
    "def temporal_split(X, y, splitter_col = 'day_of_week'):\n",
    "    X_splits = []\n",
    "    y_splits = []\n",
    "    Xt = X.copy(deep=True) ; yt = y.copy(deep=True)\n",
    "    split_flags = sorted(Xt[splitter_col].unique())\n",
    "    for split_flag in split_flags:\n",
    "        X_split = Xt[Xt[splitter_col] == split_flag]\n",
    "        X_splits.append(X_split)\n",
    "        y_splits.append(y.loc[X_split.index])\n",
    "        \n",
    "    return X_splits, y_splits"
   ]
  },
  {
   "cell_type": "code",
   "execution_count": 6,
   "metadata": {
    "collapsed": false
   },
   "outputs": [
    {
     "name": "stdout",
     "output_type": "stream",
     "text": [
      "                     temp  day_of_week  week_of_year\n",
      "1994-01-03 00:00:00 -14.8          0.0           1.0\n",
      "1994-01-03 01:00:00 -15.4          0.0           1.0\n",
      "1994-01-03 02:00:00 -16.3          0.0           1.0\n",
      "1994-01-03 03:00:00 -16.0          0.0           1.0\n",
      "1994-01-03 04:00:00 -15.0          0.0           1.0\n",
      "1994-01-03 05:00:00 -14.7          0.0           1.0\n",
      "1994-01-03 06:00:00 -13.8          0.0           1.0\n",
      "1994-01-03 00:00:00    21923.0\n",
      "1994-01-03 01:00:00    21923.0\n",
      "1994-01-03 02:00:00    21923.0\n",
      "1994-01-03 03:00:00    21923.0\n",
      "1994-01-03 04:00:00    21923.0\n",
      "1994-01-03 05:00:00    21923.0\n",
      "1994-01-03 06:00:00    21923.0\n",
      "Name: daily_peak, dtype: float64\n"
     ]
    }
   ],
   "source": [
    "X_splits, y_splits = temporal_split(X, y, splitter_col = 'day_of_week')\n",
    "\n",
    "for X_split, y_split in zip(X_splits, y_splits):#temporal_split(X, y, splitter_col = 'day_of_week'):\n",
    "    print(X_split[['temp', 'day_of_week', 'week_of_year']].head(7))\n",
    "    print(y_split.head(7))\n",
    "    break"
   ]
  },
  {
   "cell_type": "code",
   "execution_count": null,
   "metadata": {
    "collapsed": true
   },
   "outputs": [],
   "source": []
  },
  {
   "cell_type": "code",
   "execution_count": null,
   "metadata": {
    "collapsed": true
   },
   "outputs": [],
   "source": []
  },
  {
   "cell_type": "code",
   "execution_count": null,
   "metadata": {
    "collapsed": true
   },
   "outputs": [],
   "source": []
  }
 ],
 "metadata": {
  "anaconda-cloud": {},
  "kernelspec": {
   "display_name": "Python [conda env:ana_py37tf]",
   "language": "python",
   "name": "conda-env-ana_py37tf-py"
  },
  "language_info": {
   "codemirror_mode": {
    "name": "ipython",
    "version": 3
   },
   "file_extension": ".py",
   "mimetype": "text/x-python",
   "name": "python",
   "nbconvert_exporter": "python",
   "pygments_lexer": "ipython3",
   "version": "3.7.3"
  }
 },
 "nbformat": 4,
 "nbformat_minor": 2
}
